{
 "cells": [
  {
   "cell_type": "markdown",
   "id": "019bb091",
   "metadata": {
    "papermill": {
     "duration": 0.026207,
     "end_time": "2022-07-07T21:34:01.217454",
     "exception": false,
     "start_time": "2022-07-07T21:34:01.191247",
     "status": "completed"
    },
    "tags": []
   },
   "source": [
    "# Brawlhalla Legends Analysis"
   ]
  },
  {
   "cell_type": "markdown",
   "id": "91e8bbec",
   "metadata": {
    "papermill": {
     "duration": 0.029934,
     "end_time": "2022-07-07T21:34:01.273536",
     "exception": false,
     "start_time": "2022-07-07T21:34:01.243602",
     "status": "completed"
    },
    "tags": []
   },
   "source": [
    "## 1 - Importing the libs"
   ]
  },
  {
   "cell_type": "code",
   "execution_count": 1,
   "id": "8913f965",
   "metadata": {
    "execution": {
     "iopub.execute_input": "2022-07-07T21:34:01.331913Z",
     "iopub.status.busy": "2022-07-07T21:34:01.331293Z",
     "iopub.status.idle": "2022-07-07T21:34:02.382334Z",
     "shell.execute_reply": "2022-07-07T21:34:02.379786Z"
    },
    "papermill": {
     "duration": 1.08335,
     "end_time": "2022-07-07T21:34:02.385296",
     "exception": false,
     "start_time": "2022-07-07T21:34:01.301946",
     "status": "completed"
    },
    "tags": []
   },
   "outputs": [],
   "source": [
    "import numpy as np\n",
    "import pandas as pd\n",
    "import matplotlib.pyplot as plt\n",
    "import scipy.stats as st\n",
    "from datetime import datetime\n",
    "from sklearn.linear_model import LinearRegression"
   ]
  },
  {
   "cell_type": "markdown",
   "id": "216d3512",
   "metadata": {
    "papermill": {
     "duration": 0.015714,
     "end_time": "2022-07-07T21:34:02.417026",
     "exception": false,
     "start_time": "2022-07-07T21:34:02.401312",
     "status": "completed"
    },
    "tags": []
   },
   "source": [
    "## 2 - Reading and visualizing data"
   ]
  },
  {
   "cell_type": "code",
   "execution_count": 2,
   "id": "76123529",
   "metadata": {
    "execution": {
     "iopub.execute_input": "2022-07-07T21:34:02.450164Z",
     "iopub.status.busy": "2022-07-07T21:34:02.449418Z",
     "iopub.status.idle": "2022-07-07T21:34:02.476829Z",
     "shell.execute_reply": "2022-07-07T21:34:02.475998Z"
    },
    "papermill": {
     "duration": 0.046272,
     "end_time": "2022-07-07T21:34:02.478815",
     "exception": false,
     "start_time": "2022-07-07T21:34:02.432543",
     "status": "completed"
    },
    "tags": []
   },
   "outputs": [
    {
     "data": {
      "text/plain": [
       "(55, 7)"
      ]
     },
     "execution_count": 2,
     "metadata": {},
     "output_type": "execute_result"
    }
   ],
   "source": [
    "champions = pd.read_csv('../input/brawlhalla-legends/data.csv', index_col = 0)\n",
    "champions.shape"
   ]
  },
  {
   "cell_type": "code",
   "execution_count": 3,
   "id": "e9429df2",
   "metadata": {
    "execution": {
     "iopub.execute_input": "2022-07-07T21:34:02.530916Z",
     "iopub.status.busy": "2022-07-07T21:34:02.530586Z",
     "iopub.status.idle": "2022-07-07T21:34:02.548441Z",
     "shell.execute_reply": "2022-07-07T21:34:02.547752Z"
    },
    "papermill": {
     "duration": 0.046202,
     "end_time": "2022-07-07T21:34:02.550283",
     "exception": false,
     "start_time": "2022-07-07T21:34:02.504081",
     "status": "completed"
    },
    "tags": []
   },
   "outputs": [
    {
     "data": {
      "text/html": [
       "<div>\n",
       "<style scoped>\n",
       "    .dataframe tbody tr th:only-of-type {\n",
       "        vertical-align: middle;\n",
       "    }\n",
       "\n",
       "    .dataframe tbody tr th {\n",
       "        vertical-align: top;\n",
       "    }\n",
       "\n",
       "    .dataframe thead th {\n",
       "        text-align: right;\n",
       "    }\n",
       "</style>\n",
       "<table border=\"1\" class=\"dataframe\">\n",
       "  <thead>\n",
       "    <tr style=\"text-align: right;\">\n",
       "      <th></th>\n",
       "      <th>strength</th>\n",
       "      <th>dexterity</th>\n",
       "      <th>defence</th>\n",
       "      <th>speed</th>\n",
       "      <th>gender</th>\n",
       "      <th>price</th>\n",
       "      <th>datereleased</th>\n",
       "    </tr>\n",
       "    <tr>\n",
       "      <th>name</th>\n",
       "      <th></th>\n",
       "      <th></th>\n",
       "      <th></th>\n",
       "      <th></th>\n",
       "      <th></th>\n",
       "      <th></th>\n",
       "      <th></th>\n",
       "    </tr>\n",
       "  </thead>\n",
       "  <tbody>\n",
       "    <tr>\n",
       "      <th>Ada</th>\n",
       "      <td>6</td>\n",
       "      <td>7</td>\n",
       "      <td>3</td>\n",
       "      <td>6</td>\n",
       "      <td>Female</td>\n",
       "      <td>3900</td>\n",
       "      <td>12.11.2014</td>\n",
       "    </tr>\n",
       "    <tr>\n",
       "      <th>Arcadia</th>\n",
       "      <td>7</td>\n",
       "      <td>7</td>\n",
       "      <td>4</td>\n",
       "      <td>4</td>\n",
       "      <td>Female</td>\n",
       "      <td>5400</td>\n",
       "      <td>16.3.2022</td>\n",
       "    </tr>\n",
       "    <tr>\n",
       "      <th>Artemis</th>\n",
       "      <td>5</td>\n",
       "      <td>5</td>\n",
       "      <td>4</td>\n",
       "      <td>8</td>\n",
       "      <td>Female</td>\n",
       "      <td>5400</td>\n",
       "      <td>14.6.2017</td>\n",
       "    </tr>\n",
       "    <tr>\n",
       "      <th>Asuri</th>\n",
       "      <td>4</td>\n",
       "      <td>7</td>\n",
       "      <td>5</td>\n",
       "      <td>6</td>\n",
       "      <td>Female</td>\n",
       "      <td>3900</td>\n",
       "      <td>24.9.2015</td>\n",
       "    </tr>\n",
       "    <tr>\n",
       "      <th>Azoth</th>\n",
       "      <td>7</td>\n",
       "      <td>5</td>\n",
       "      <td>6</td>\n",
       "      <td>4</td>\n",
       "      <td>Male</td>\n",
       "      <td>5400</td>\n",
       "      <td>6.1.2016</td>\n",
       "    </tr>\n",
       "    <tr>\n",
       "      <th>Barraza</th>\n",
       "      <td>6</td>\n",
       "      <td>4</td>\n",
       "      <td>8</td>\n",
       "      <td>4</td>\n",
       "      <td>Male</td>\n",
       "      <td>3900</td>\n",
       "      <td>20.10.2015</td>\n",
       "    </tr>\n",
       "    <tr>\n",
       "      <th>Bödvar</th>\n",
       "      <td>6</td>\n",
       "      <td>6</td>\n",
       "      <td>5</td>\n",
       "      <td>5</td>\n",
       "      <td>Male</td>\n",
       "      <td>900</td>\n",
       "      <td>30.4.2014</td>\n",
       "    </tr>\n",
       "    <tr>\n",
       "      <th>Brynn</th>\n",
       "      <td>5</td>\n",
       "      <td>5</td>\n",
       "      <td>5</td>\n",
       "      <td>7</td>\n",
       "      <td>Female</td>\n",
       "      <td>900</td>\n",
       "      <td>6.8.2015</td>\n",
       "    </tr>\n",
       "    <tr>\n",
       "      <th>Caspian</th>\n",
       "      <td>7</td>\n",
       "      <td>5</td>\n",
       "      <td>4</td>\n",
       "      <td>6</td>\n",
       "      <td>Male</td>\n",
       "      <td>5400</td>\n",
       "      <td>26.7.2017</td>\n",
       "    </tr>\n",
       "    <tr>\n",
       "      <th>Cassidy</th>\n",
       "      <td>6</td>\n",
       "      <td>8</td>\n",
       "      <td>4</td>\n",
       "      <td>4</td>\n",
       "      <td>Female</td>\n",
       "      <td>2300</td>\n",
       "      <td>30.4.2014</td>\n",
       "    </tr>\n",
       "  </tbody>\n",
       "</table>\n",
       "</div>"
      ],
      "text/plain": [
       "         strength  dexterity  defence  speed  gender  price datereleased\n",
       "name                                                                    \n",
       "Ada             6          7        3      6  Female   3900   12.11.2014\n",
       "Arcadia         7          7        4      4  Female   5400    16.3.2022\n",
       "Artemis         5          5        4      8  Female   5400    14.6.2017\n",
       "Asuri           4          7        5      6  Female   3900    24.9.2015\n",
       "Azoth           7          5        6      4    Male   5400     6.1.2016\n",
       "Barraza         6          4        8      4    Male   3900   20.10.2015\n",
       "Bödvar          6          6        5      5    Male    900    30.4.2014\n",
       "Brynn           5          5        5      7  Female    900     6.8.2015\n",
       "Caspian         7          5        4      6    Male   5400    26.7.2017\n",
       "Cassidy         6          8        4      4  Female   2300    30.4.2014"
      ]
     },
     "execution_count": 3,
     "metadata": {},
     "output_type": "execute_result"
    }
   ],
   "source": [
    "champions.head(10)"
   ]
  },
  {
   "cell_type": "code",
   "execution_count": 4,
   "id": "d838b8b7",
   "metadata": {
    "execution": {
     "iopub.execute_input": "2022-07-07T21:34:02.605271Z",
     "iopub.status.busy": "2022-07-07T21:34:02.604595Z",
     "iopub.status.idle": "2022-07-07T21:34:02.617633Z",
     "shell.execute_reply": "2022-07-07T21:34:02.616707Z"
    },
    "papermill": {
     "duration": 0.04289,
     "end_time": "2022-07-07T21:34:02.619684",
     "exception": false,
     "start_time": "2022-07-07T21:34:02.576794",
     "status": "completed"
    },
    "tags": []
   },
   "outputs": [
    {
     "data": {
      "text/html": [
       "<div>\n",
       "<style scoped>\n",
       "    .dataframe tbody tr th:only-of-type {\n",
       "        vertical-align: middle;\n",
       "    }\n",
       "\n",
       "    .dataframe tbody tr th {\n",
       "        vertical-align: top;\n",
       "    }\n",
       "\n",
       "    .dataframe thead th {\n",
       "        text-align: right;\n",
       "    }\n",
       "</style>\n",
       "<table border=\"1\" class=\"dataframe\">\n",
       "  <thead>\n",
       "    <tr style=\"text-align: right;\">\n",
       "      <th></th>\n",
       "      <th>strength</th>\n",
       "      <th>dexterity</th>\n",
       "      <th>defence</th>\n",
       "      <th>speed</th>\n",
       "      <th>gender</th>\n",
       "      <th>price</th>\n",
       "      <th>datereleased</th>\n",
       "    </tr>\n",
       "    <tr>\n",
       "      <th>name</th>\n",
       "      <th></th>\n",
       "      <th></th>\n",
       "      <th></th>\n",
       "      <th></th>\n",
       "      <th></th>\n",
       "      <th></th>\n",
       "      <th></th>\n",
       "    </tr>\n",
       "  </thead>\n",
       "  <tbody>\n",
       "    <tr>\n",
       "      <th>Thor</th>\n",
       "      <td>6</td>\n",
       "      <td>4</td>\n",
       "      <td>7</td>\n",
       "      <td>5</td>\n",
       "      <td>Male</td>\n",
       "      <td>5400</td>\n",
       "      <td>14.3.2019</td>\n",
       "    </tr>\n",
       "    <tr>\n",
       "      <th>Ulgrim</th>\n",
       "      <td>6</td>\n",
       "      <td>3</td>\n",
       "      <td>7</td>\n",
       "      <td>6</td>\n",
       "      <td>Male</td>\n",
       "      <td>5400</td>\n",
       "      <td>2.3.2016</td>\n",
       "    </tr>\n",
       "    <tr>\n",
       "      <th>Val</th>\n",
       "      <td>4</td>\n",
       "      <td>5</td>\n",
       "      <td>6</td>\n",
       "      <td>7</td>\n",
       "      <td>Female</td>\n",
       "      <td>5400</td>\n",
       "      <td>24.8.2016</td>\n",
       "    </tr>\n",
       "    <tr>\n",
       "      <th>Vector</th>\n",
       "      <td>5</td>\n",
       "      <td>4</td>\n",
       "      <td>6</td>\n",
       "      <td>7</td>\n",
       "      <td>Male</td>\n",
       "      <td>5400</td>\n",
       "      <td>20.9.2019</td>\n",
       "    </tr>\n",
       "    <tr>\n",
       "      <th>Volkov</th>\n",
       "      <td>4</td>\n",
       "      <td>8</td>\n",
       "      <td>6</td>\n",
       "      <td>4</td>\n",
       "      <td>Male</td>\n",
       "      <td>5400</td>\n",
       "      <td>18.12.2019</td>\n",
       "    </tr>\n",
       "    <tr>\n",
       "      <th>Lord Vraxx</th>\n",
       "      <td>4</td>\n",
       "      <td>8</td>\n",
       "      <td>4</td>\n",
       "      <td>6</td>\n",
       "      <td>Male</td>\n",
       "      <td>2300</td>\n",
       "      <td>30.4.2014</td>\n",
       "    </tr>\n",
       "    <tr>\n",
       "      <th>Wu Shang</th>\n",
       "      <td>5</td>\n",
       "      <td>7</td>\n",
       "      <td>5</td>\n",
       "      <td>5</td>\n",
       "      <td>Male</td>\n",
       "      <td>5400</td>\n",
       "      <td>13.7.2016</td>\n",
       "    </tr>\n",
       "    <tr>\n",
       "      <th>Xull</th>\n",
       "      <td>9</td>\n",
       "      <td>4</td>\n",
       "      <td>5</td>\n",
       "      <td>4</td>\n",
       "      <td>Male</td>\n",
       "      <td>5400</td>\n",
       "      <td>22.11.2017</td>\n",
       "    </tr>\n",
       "    <tr>\n",
       "      <th>Yumiko</th>\n",
       "      <td>4</td>\n",
       "      <td>7</td>\n",
       "      <td>4</td>\n",
       "      <td>7</td>\n",
       "      <td>Female</td>\n",
       "      <td>5400</td>\n",
       "      <td>3.5.2017</td>\n",
       "    </tr>\n",
       "    <tr>\n",
       "      <th>Zariel</th>\n",
       "      <td>7</td>\n",
       "      <td>4</td>\n",
       "      <td>7</td>\n",
       "      <td>4</td>\n",
       "      <td>???</td>\n",
       "      <td>5400</td>\n",
       "      <td>25.7.2018</td>\n",
       "    </tr>\n",
       "  </tbody>\n",
       "</table>\n",
       "</div>"
      ],
      "text/plain": [
       "            strength  dexterity  defence  speed  gender  price datereleased\n",
       "name                                                                       \n",
       "Thor               6          4        7      5    Male   5400    14.3.2019\n",
       "Ulgrim             6          3        7      6    Male   5400     2.3.2016\n",
       "Val                4          5        6      7  Female   5400    24.8.2016\n",
       "Vector             5          4        6      7    Male   5400    20.9.2019\n",
       "Volkov             4          8        6      4    Male   5400   18.12.2019\n",
       "Lord Vraxx         4          8        4      6    Male   2300    30.4.2014\n",
       "Wu Shang           5          7        5      5    Male   5400    13.7.2016\n",
       "Xull               9          4        5      4    Male   5400   22.11.2017\n",
       "Yumiko             4          7        4      7  Female   5400     3.5.2017\n",
       "Zariel             7          4        7      4     ???   5400    25.7.2018"
      ]
     },
     "execution_count": 4,
     "metadata": {},
     "output_type": "execute_result"
    }
   ],
   "source": [
    "champions.tail(10)"
   ]
  },
  {
   "cell_type": "markdown",
   "id": "cc1a721f",
   "metadata": {
    "papermill": {
     "duration": 0.025805,
     "end_time": "2022-07-07T21:34:02.671880",
     "exception": false,
     "start_time": "2022-07-07T21:34:02.646075",
     "status": "completed"
    },
    "tags": []
   },
   "source": [
    "## 3 - Getting top 5 legends based on meta"
   ]
  },
  {
   "cell_type": "code",
   "execution_count": 5,
   "id": "437d5ec0",
   "metadata": {
    "execution": {
     "iopub.execute_input": "2022-07-07T21:34:02.725398Z",
     "iopub.status.busy": "2022-07-07T21:34:02.724836Z",
     "iopub.status.idle": "2022-07-07T21:34:02.738669Z",
     "shell.execute_reply": "2022-07-07T21:34:02.738029Z"
    },
    "papermill": {
     "duration": 0.042632,
     "end_time": "2022-07-07T21:34:02.740412",
     "exception": false,
     "start_time": "2022-07-07T21:34:02.697780",
     "status": "completed"
    },
    "tags": []
   },
   "outputs": [
    {
     "data": {
      "text/html": [
       "<div>\n",
       "<style scoped>\n",
       "    .dataframe tbody tr th:only-of-type {\n",
       "        vertical-align: middle;\n",
       "    }\n",
       "\n",
       "    .dataframe tbody tr th {\n",
       "        vertical-align: top;\n",
       "    }\n",
       "\n",
       "    .dataframe thead th {\n",
       "        text-align: right;\n",
       "    }\n",
       "</style>\n",
       "<table border=\"1\" class=\"dataframe\">\n",
       "  <thead>\n",
       "    <tr style=\"text-align: right;\">\n",
       "      <th></th>\n",
       "      <th>strength</th>\n",
       "      <th>dexterity</th>\n",
       "      <th>defence</th>\n",
       "      <th>speed</th>\n",
       "      <th>gender</th>\n",
       "      <th>price</th>\n",
       "      <th>datereleased</th>\n",
       "    </tr>\n",
       "    <tr>\n",
       "      <th>name</th>\n",
       "      <th></th>\n",
       "      <th></th>\n",
       "      <th></th>\n",
       "      <th></th>\n",
       "      <th></th>\n",
       "      <th></th>\n",
       "      <th></th>\n",
       "    </tr>\n",
       "  </thead>\n",
       "  <tbody>\n",
       "    <tr>\n",
       "      <th>Lucien</th>\n",
       "      <td>3</td>\n",
       "      <td>5</td>\n",
       "      <td>6</td>\n",
       "      <td>8</td>\n",
       "      <td>Male</td>\n",
       "      <td>2300</td>\n",
       "      <td>9.1.2015</td>\n",
       "    </tr>\n",
       "    <tr>\n",
       "      <th>Nix</th>\n",
       "      <td>4</td>\n",
       "      <td>5</td>\n",
       "      <td>7</td>\n",
       "      <td>6</td>\n",
       "      <td>Female</td>\n",
       "      <td>5400</td>\n",
       "      <td>15.2.2017</td>\n",
       "    </tr>\n",
       "    <tr>\n",
       "      <th>Orion</th>\n",
       "      <td>4</td>\n",
       "      <td>6</td>\n",
       "      <td>6</td>\n",
       "      <td>6</td>\n",
       "      <td>Male</td>\n",
       "      <td>2300</td>\n",
       "      <td>30.4.2014</td>\n",
       "    </tr>\n",
       "    <tr>\n",
       "      <th>Rayman</th>\n",
       "      <td>5</td>\n",
       "      <td>5</td>\n",
       "      <td>6</td>\n",
       "      <td>6</td>\n",
       "      <td>Male</td>\n",
       "      <td>5400</td>\n",
       "      <td>6.11.2018</td>\n",
       "    </tr>\n",
       "    <tr>\n",
       "      <th>Val</th>\n",
       "      <td>4</td>\n",
       "      <td>5</td>\n",
       "      <td>6</td>\n",
       "      <td>7</td>\n",
       "      <td>Female</td>\n",
       "      <td>5400</td>\n",
       "      <td>24.8.2016</td>\n",
       "    </tr>\n",
       "  </tbody>\n",
       "</table>\n",
       "</div>"
      ],
      "text/plain": [
       "        strength  dexterity  defence  speed  gender  price datereleased\n",
       "name                                                                   \n",
       "Lucien         3          5        6      8    Male   2300     9.1.2015\n",
       "Nix            4          5        7      6  Female   5400    15.2.2017\n",
       "Orion          4          6        6      6    Male   2300    30.4.2014\n",
       "Rayman         5          5        6      6    Male   5400    6.11.2018\n",
       "Val            4          5        6      7  Female   5400    24.8.2016"
      ]
     },
     "execution_count": 5,
     "metadata": {},
     "output_type": "execute_result"
    }
   ],
   "source": [
    "mask = (champions.defence > 5) & (champions.speed > 5) & (champions.dexterity >= 5)\n",
    "champions[mask]"
   ]
  },
  {
   "cell_type": "markdown",
   "id": "2063d527",
   "metadata": {
    "papermill": {
     "duration": 0.027155,
     "end_time": "2022-07-07T21:34:02.795064",
     "exception": false,
     "start_time": "2022-07-07T21:34:02.767909",
     "status": "completed"
    },
    "tags": []
   },
   "source": [
    "### On the meta, the most valuable status are Defence and Speed, with Dexterity also being a good attribute."
   ]
  },
  {
   "cell_type": "markdown",
   "id": "b4594de8",
   "metadata": {
    "papermill": {
     "duration": 0.026864,
     "end_time": "2022-07-07T21:34:02.849608",
     "exception": false,
     "start_time": "2022-07-07T21:34:02.822744",
     "status": "completed"
    },
    "tags": []
   },
   "source": [
    "#### Comparing the table above with the Community Tier List (06 Jul. 2022)"
   ]
  },
  {
   "cell_type": "markdown",
   "id": "dfb928a4",
   "metadata": {
    "papermill": {
     "duration": 0.026852,
     "end_time": "2022-07-07T21:34:02.903604",
     "exception": false,
     "start_time": "2022-07-07T21:34:02.876752",
     "status": "completed"
    },
    "tags": []
   },
   "source": [
    "P.S.: Legend's position at the tier list depends not only on base stats, but also weapons and sigs"
   ]
  },
  {
   "attachments": {
    "4f17ce8b-85ef-4766-b669-cb17fa71fbbe.jpeg": {
     "image/jpeg": "[encoded data removed]"
    }
   },
   "cell_type": "markdown",
   "id": "c80ca091",
   "metadata": {
    "papermill": {
     "duration": 0.02677,
     "end_time": "2022-07-07T21:34:02.957457",
     "exception": false,
     "start_time": "2022-07-07T21:34:02.930687",
     "status": "completed"
    },
    "tags": []
   },
   "source": [
    "![WhatsApp Image 2022-07-06 at 20.24.54.jpeg](attachment:4f17ce8b-85ef-4766-b669-cb17fa71fbbe.jpeg)"
   ]
  },
  {
   "cell_type": "markdown",
   "id": "37757e40",
   "metadata": {
    "papermill": {
     "duration": 0.026789,
     "end_time": "2022-07-07T21:34:03.011462",
     "exception": false,
     "start_time": "2022-07-07T21:34:02.984673",
     "status": "completed"
    },
    "tags": []
   },
   "source": [
    "## 4 - Predicting next 3 legend's number of days to launch"
   ]
  },
  {
   "cell_type": "markdown",
   "id": "f1c7a90d",
   "metadata": {
    "papermill": {
     "duration": 0.026857,
     "end_time": "2022-07-07T21:34:03.065456",
     "exception": false,
     "start_time": "2022-07-07T21:34:03.038599",
     "status": "completed"
    },
    "tags": []
   },
   "source": [
    "### 4.1 - Calculating number of days a new legend is launched after the one before him/her"
   ]
  },
  {
   "cell_type": "code",
   "execution_count": 6,
   "id": "3f579c01",
   "metadata": {
    "execution": {
     "iopub.execute_input": "2022-07-07T21:34:03.121678Z",
     "iopub.status.busy": "2022-07-07T21:34:03.121116Z",
     "iopub.status.idle": "2022-07-07T21:34:03.153905Z",
     "shell.execute_reply": "2022-07-07T21:34:03.152960Z"
    },
    "papermill": {
     "duration": 0.063334,
     "end_time": "2022-07-07T21:34:03.155885",
     "exception": false,
     "start_time": "2022-07-07T21:34:03.092551",
     "status": "completed"
    },
    "tags": []
   },
   "outputs": [
    {
     "data": {
      "text/html": [
       "<div>\n",
       "<style scoped>\n",
       "    .dataframe tbody tr th:only-of-type {\n",
       "        vertical-align: middle;\n",
       "    }\n",
       "\n",
       "    .dataframe tbody tr th {\n",
       "        vertical-align: top;\n",
       "    }\n",
       "\n",
       "    .dataframe thead th {\n",
       "        text-align: right;\n",
       "    }\n",
       "</style>\n",
       "<table border=\"1\" class=\"dataframe\">\n",
       "  <thead>\n",
       "    <tr style=\"text-align: right;\">\n",
       "      <th></th>\n",
       "      <th>strength</th>\n",
       "      <th>dexterity</th>\n",
       "      <th>defence</th>\n",
       "      <th>speed</th>\n",
       "      <th>gender</th>\n",
       "      <th>price</th>\n",
       "      <th>datereleased</th>\n",
       "      <th>lauch_time_from_previous</th>\n",
       "    </tr>\n",
       "    <tr>\n",
       "      <th>name</th>\n",
       "      <th></th>\n",
       "      <th></th>\n",
       "      <th></th>\n",
       "      <th></th>\n",
       "      <th></th>\n",
       "      <th></th>\n",
       "      <th></th>\n",
       "      <th></th>\n",
       "    </tr>\n",
       "  </thead>\n",
       "  <tbody>\n",
       "    <tr>\n",
       "      <th>Orion</th>\n",
       "      <td>4</td>\n",
       "      <td>6</td>\n",
       "      <td>6</td>\n",
       "      <td>6</td>\n",
       "      <td>1.0</td>\n",
       "      <td>2300</td>\n",
       "      <td>2014-04-30</td>\n",
       "      <td>0.0</td>\n",
       "    </tr>\n",
       "    <tr>\n",
       "      <th>Bödvar</th>\n",
       "      <td>6</td>\n",
       "      <td>6</td>\n",
       "      <td>5</td>\n",
       "      <td>5</td>\n",
       "      <td>1.0</td>\n",
       "      <td>900</td>\n",
       "      <td>2014-04-30</td>\n",
       "      <td>0.0</td>\n",
       "    </tr>\n",
       "    <tr>\n",
       "      <th>Cassidy</th>\n",
       "      <td>6</td>\n",
       "      <td>8</td>\n",
       "      <td>4</td>\n",
       "      <td>4</td>\n",
       "      <td>0.0</td>\n",
       "      <td>2300</td>\n",
       "      <td>2014-04-30</td>\n",
       "      <td>0.0</td>\n",
       "    </tr>\n",
       "    <tr>\n",
       "      <th>Lord Vraxx</th>\n",
       "      <td>4</td>\n",
       "      <td>8</td>\n",
       "      <td>4</td>\n",
       "      <td>6</td>\n",
       "      <td>1.0</td>\n",
       "      <td>2300</td>\n",
       "      <td>2014-04-30</td>\n",
       "      <td>0.0</td>\n",
       "    </tr>\n",
       "    <tr>\n",
       "      <th>Gnash</th>\n",
       "      <td>7</td>\n",
       "      <td>3</td>\n",
       "      <td>5</td>\n",
       "      <td>7</td>\n",
       "      <td>1.0</td>\n",
       "      <td>2300</td>\n",
       "      <td>2014-05-22</td>\n",
       "      <td>22.0</td>\n",
       "    </tr>\n",
       "  </tbody>\n",
       "</table>\n",
       "</div>"
      ],
      "text/plain": [
       "            strength  dexterity  defence  speed  gender  price datereleased  \\\n",
       "name                                                                          \n",
       "Orion              4          6        6      6     1.0   2300   2014-04-30   \n",
       "Bödvar             6          6        5      5     1.0    900   2014-04-30   \n",
       "Cassidy            6          8        4      4     0.0   2300   2014-04-30   \n",
       "Lord Vraxx         4          8        4      6     1.0   2300   2014-04-30   \n",
       "Gnash              7          3        5      7     1.0   2300   2014-05-22   \n",
       "\n",
       "            lauch_time_from_previous  \n",
       "name                                  \n",
       "Orion                            0.0  \n",
       "Bödvar                           0.0  \n",
       "Cassidy                          0.0  \n",
       "Lord Vraxx                       0.0  \n",
       "Gnash                           22.0  "
      ]
     },
     "execution_count": 6,
     "metadata": {},
     "output_type": "execute_result"
    }
   ],
   "source": [
    "champions['datereleased'] = pd.to_datetime(champions['datereleased'], infer_datetime_format=True)\n",
    "champions['gender'].replace(['Female','Male', '???'], [0,1,0.5] ,inplace=True)\n",
    "champions = champions.sort_values(by = ['datereleased'])\n",
    "champions['lauch_time_from_previous'] = champions['datereleased'].diff() / np.timedelta64(1, 'D')\n",
    "champions.iloc[0:1,7] = 0.0\n",
    "champions.head()"
   ]
  },
  {
   "cell_type": "code",
   "execution_count": 7,
   "id": "179793a8",
   "metadata": {
    "execution": {
     "iopub.execute_input": "2022-07-07T21:34:03.212076Z",
     "iopub.status.busy": "2022-07-07T21:34:03.211792Z",
     "iopub.status.idle": "2022-07-07T21:34:03.224996Z",
     "shell.execute_reply": "2022-07-07T21:34:03.224328Z"
    },
    "papermill": {
     "duration": 0.04346,
     "end_time": "2022-07-07T21:34:03.226807",
     "exception": false,
     "start_time": "2022-07-07T21:34:03.183347",
     "status": "completed"
    },
    "tags": []
   },
   "outputs": [
    {
     "data": {
      "text/html": [
       "<div>\n",
       "<style scoped>\n",
       "    .dataframe tbody tr th:only-of-type {\n",
       "        vertical-align: middle;\n",
       "    }\n",
       "\n",
       "    .dataframe tbody tr th {\n",
       "        vertical-align: top;\n",
       "    }\n",
       "\n",
       "    .dataframe thead th {\n",
       "        text-align: right;\n",
       "    }\n",
       "</style>\n",
       "<table border=\"1\" class=\"dataframe\">\n",
       "  <thead>\n",
       "    <tr style=\"text-align: right;\">\n",
       "      <th></th>\n",
       "      <th>strength</th>\n",
       "      <th>dexterity</th>\n",
       "      <th>defence</th>\n",
       "      <th>speed</th>\n",
       "      <th>gender</th>\n",
       "      <th>price</th>\n",
       "      <th>datereleased</th>\n",
       "      <th>lauch_time_from_previous</th>\n",
       "    </tr>\n",
       "    <tr>\n",
       "      <th>name</th>\n",
       "      <th></th>\n",
       "      <th></th>\n",
       "      <th></th>\n",
       "      <th></th>\n",
       "      <th></th>\n",
       "      <th></th>\n",
       "      <th></th>\n",
       "      <th></th>\n",
       "    </tr>\n",
       "  </thead>\n",
       "  <tbody>\n",
       "    <tr>\n",
       "      <th>Ember</th>\n",
       "      <td>6</td>\n",
       "      <td>6</td>\n",
       "      <td>3</td>\n",
       "      <td>7</td>\n",
       "      <td>0.0</td>\n",
       "      <td>900</td>\n",
       "      <td>2015-11-11</td>\n",
       "      <td>22.0</td>\n",
       "    </tr>\n",
       "    <tr>\n",
       "      <th>Kor</th>\n",
       "      <td>6</td>\n",
       "      <td>5</td>\n",
       "      <td>7</td>\n",
       "      <td>4</td>\n",
       "      <td>1.0</td>\n",
       "      <td>3900</td>\n",
       "      <td>2016-01-06</td>\n",
       "      <td>56.0</td>\n",
       "    </tr>\n",
       "    <tr>\n",
       "      <th>Ulgrim</th>\n",
       "      <td>6</td>\n",
       "      <td>3</td>\n",
       "      <td>7</td>\n",
       "      <td>6</td>\n",
       "      <td>1.0</td>\n",
       "      <td>5400</td>\n",
       "      <td>2016-02-03</td>\n",
       "      <td>28.0</td>\n",
       "    </tr>\n",
       "    <tr>\n",
       "      <th>Diana</th>\n",
       "      <td>5</td>\n",
       "      <td>6</td>\n",
       "      <td>5</td>\n",
       "      <td>6</td>\n",
       "      <td>0.0</td>\n",
       "      <td>5400</td>\n",
       "      <td>2016-03-30</td>\n",
       "      <td>56.0</td>\n",
       "    </tr>\n",
       "    <tr>\n",
       "      <th>Koji</th>\n",
       "      <td>5</td>\n",
       "      <td>8</td>\n",
       "      <td>4</td>\n",
       "      <td>5</td>\n",
       "      <td>1.0</td>\n",
       "      <td>5400</td>\n",
       "      <td>2016-04-02</td>\n",
       "      <td>3.0</td>\n",
       "    </tr>\n",
       "  </tbody>\n",
       "</table>\n",
       "</div>"
      ],
      "text/plain": [
       "        strength  dexterity  defence  speed  gender  price datereleased  \\\n",
       "name                                                                      \n",
       "Ember          6          6        3      7     0.0    900   2015-11-11   \n",
       "Kor            6          5        7      4     1.0   3900   2016-01-06   \n",
       "Ulgrim         6          3        7      6     1.0   5400   2016-02-03   \n",
       "Diana          5          6        5      6     0.0   5400   2016-03-30   \n",
       "Koji           5          8        4      5     1.0   5400   2016-04-02   \n",
       "\n",
       "        lauch_time_from_previous  \n",
       "name                              \n",
       "Ember                       22.0  \n",
       "Kor                         56.0  \n",
       "Ulgrim                      28.0  \n",
       "Diana                       56.0  \n",
       "Koji                         3.0  "
      ]
     },
     "execution_count": 7,
     "metadata": {},
     "output_type": "execute_result"
    }
   ],
   "source": [
    "mask = champions['datereleased'] >= datetime.strptime('01/11/15', '%d/%m/%y')\n",
    "champions_after_open_beta = champions[mask]\n",
    "champions_after_open_beta.head()"
   ]
  },
  {
   "cell_type": "code",
   "execution_count": 8,
   "id": "1c611458",
   "metadata": {
    "execution": {
     "iopub.execute_input": "2022-07-07T21:34:03.284080Z",
     "iopub.status.busy": "2022-07-07T21:34:03.283459Z",
     "iopub.status.idle": "2022-07-07T21:34:03.296512Z",
     "shell.execute_reply": "2022-07-07T21:34:03.295515Z"
    },
    "papermill": {
     "duration": 0.043822,
     "end_time": "2022-07-07T21:34:03.298296",
     "exception": false,
     "start_time": "2022-07-07T21:34:03.254474",
     "status": "completed"
    },
    "tags": []
   },
   "outputs": [
    {
     "data": {
      "text/html": [
       "<div>\n",
       "<style scoped>\n",
       "    .dataframe tbody tr th:only-of-type {\n",
       "        vertical-align: middle;\n",
       "    }\n",
       "\n",
       "    .dataframe tbody tr th {\n",
       "        vertical-align: top;\n",
       "    }\n",
       "\n",
       "    .dataframe thead th {\n",
       "        text-align: right;\n",
       "    }\n",
       "</style>\n",
       "<table border=\"1\" class=\"dataframe\">\n",
       "  <thead>\n",
       "    <tr style=\"text-align: right;\">\n",
       "      <th></th>\n",
       "      <th>strength</th>\n",
       "      <th>dexterity</th>\n",
       "      <th>defence</th>\n",
       "      <th>speed</th>\n",
       "      <th>gender</th>\n",
       "      <th>price</th>\n",
       "      <th>datereleased</th>\n",
       "      <th>lauch_time_from_previous</th>\n",
       "    </tr>\n",
       "    <tr>\n",
       "      <th>name</th>\n",
       "      <th></th>\n",
       "      <th></th>\n",
       "      <th></th>\n",
       "      <th></th>\n",
       "      <th></th>\n",
       "      <th></th>\n",
       "      <th></th>\n",
       "      <th></th>\n",
       "    </tr>\n",
       "  </thead>\n",
       "  <tbody>\n",
       "    <tr>\n",
       "      <th>Sidra</th>\n",
       "      <td>6</td>\n",
       "      <td>4</td>\n",
       "      <td>6</td>\n",
       "      <td>6</td>\n",
       "      <td>0.0</td>\n",
       "      <td>3900</td>\n",
       "      <td>2017-10-19</td>\n",
       "      <td>85.0</td>\n",
       "    </tr>\n",
       "    <tr>\n",
       "      <th>Mirage</th>\n",
       "      <td>7</td>\n",
       "      <td>6</td>\n",
       "      <td>4</td>\n",
       "      <td>5</td>\n",
       "      <td>0.0</td>\n",
       "      <td>3900</td>\n",
       "      <td>2017-11-01</td>\n",
       "      <td>13.0</td>\n",
       "    </tr>\n",
       "    <tr>\n",
       "      <th>Xull</th>\n",
       "      <td>9</td>\n",
       "      <td>4</td>\n",
       "      <td>5</td>\n",
       "      <td>4</td>\n",
       "      <td>1.0</td>\n",
       "      <td>5400</td>\n",
       "      <td>2017-11-22</td>\n",
       "      <td>21.0</td>\n",
       "    </tr>\n",
       "    <tr>\n",
       "      <th>Jiro</th>\n",
       "      <td>5</td>\n",
       "      <td>7</td>\n",
       "      <td>3</td>\n",
       "      <td>7</td>\n",
       "      <td>1.0</td>\n",
       "      <td>5400</td>\n",
       "      <td>2018-04-18</td>\n",
       "      <td>147.0</td>\n",
       "    </tr>\n",
       "    <tr>\n",
       "      <th>Lin Fei</th>\n",
       "      <td>3</td>\n",
       "      <td>8</td>\n",
       "      <td>4</td>\n",
       "      <td>7</td>\n",
       "      <td>0.0</td>\n",
       "      <td>5400</td>\n",
       "      <td>2018-05-30</td>\n",
       "      <td>42.0</td>\n",
       "    </tr>\n",
       "  </tbody>\n",
       "</table>\n",
       "</div>"
      ],
      "text/plain": [
       "         strength  dexterity  defence  speed  gender  price datereleased  \\\n",
       "name                                                                       \n",
       "Sidra           6          4        6      6     0.0   3900   2017-10-19   \n",
       "Mirage          7          6        4      5     0.0   3900   2017-11-01   \n",
       "Xull            9          4        5      4     1.0   5400   2017-11-22   \n",
       "Jiro            5          7        3      7     1.0   5400   2018-04-18   \n",
       "Lin Fei         3          8        4      7     0.0   5400   2018-05-30   \n",
       "\n",
       "         lauch_time_from_previous  \n",
       "name                               \n",
       "Sidra                        85.0  \n",
       "Mirage                       13.0  \n",
       "Xull                         21.0  \n",
       "Jiro                        147.0  \n",
       "Lin Fei                      42.0  "
      ]
     },
     "execution_count": 8,
     "metadata": {},
     "output_type": "execute_result"
    }
   ],
   "source": [
    "mask = champions['datereleased'] >= datetime.strptime('17/10/17', '%d/%m/%y')\n",
    "champions_after_launch = champions[mask]\n",
    "champions_after_launch.head()"
   ]
  },
  {
   "cell_type": "markdown",
   "id": "c985bdf5",
   "metadata": {
    "papermill": {
     "duration": 0.0177,
     "end_time": "2022-07-07T21:34:03.334720",
     "exception": false,
     "start_time": "2022-07-07T21:34:03.317020",
     "status": "completed"
    },
    "tags": []
   },
   "source": [
    "### 4.2 - Getting vectors to use at the linear regression"
   ]
  },
  {
   "cell_type": "code",
   "execution_count": 9,
   "id": "7b2ca93e",
   "metadata": {
    "execution": {
     "iopub.execute_input": "2022-07-07T21:34:03.372671Z",
     "iopub.status.busy": "2022-07-07T21:34:03.372046Z",
     "iopub.status.idle": "2022-07-07T21:34:03.377749Z",
     "shell.execute_reply": "2022-07-07T21:34:03.377002Z"
    },
    "papermill": {
     "duration": 0.026964,
     "end_time": "2022-07-07T21:34:03.379635",
     "exception": false,
     "start_time": "2022-07-07T21:34:03.352671",
     "status": "completed"
    },
    "tags": []
   },
   "outputs": [],
   "source": [
    "def get_value_array_and_indexes(dataframe, column):\n",
    "    dataframe_values = np.array(dataframe[column]).reshape(-1,1)\n",
    "    dataframe_indexes = np.array(range(dataframe_values.shape[0])).reshape(-1, 1)\n",
    "    return [dataframe_values, dataframe_indexes]"
   ]
  },
  {
   "cell_type": "markdown",
   "id": "9ee5c2f5",
   "metadata": {
    "papermill": {
     "duration": 0.01699,
     "end_time": "2022-07-07T21:34:03.414299",
     "exception": false,
     "start_time": "2022-07-07T21:34:03.397309",
     "status": "completed"
    },
    "tags": []
   },
   "source": [
    "#### 4.2.1 - Alpha Release"
   ]
  },
  {
   "cell_type": "code",
   "execution_count": 10,
   "id": "ad4e5203",
   "metadata": {
    "execution": {
     "iopub.execute_input": "2022-07-07T21:34:03.450279Z",
     "iopub.status.busy": "2022-07-07T21:34:03.449919Z",
     "iopub.status.idle": "2022-07-07T21:34:03.454554Z",
     "shell.execute_reply": "2022-07-07T21:34:03.453678Z"
    },
    "papermill": {
     "duration": 0.025041,
     "end_time": "2022-07-07T21:34:03.456185",
     "exception": false,
     "start_time": "2022-07-07T21:34:03.431144",
     "status": "completed"
    },
    "tags": []
   },
   "outputs": [],
   "source": [
    "alpha_predict, alpha_indexes = get_value_array_and_indexes(champions, 'lauch_time_from_previous')    "
   ]
  },
  {
   "cell_type": "code",
   "execution_count": 11,
   "id": "781b8eaf",
   "metadata": {
    "execution": {
     "iopub.execute_input": "2022-07-07T21:34:03.491316Z",
     "iopub.status.busy": "2022-07-07T21:34:03.491016Z",
     "iopub.status.idle": "2022-07-07T21:34:03.497022Z",
     "shell.execute_reply": "2022-07-07T21:34:03.496431Z"
    },
    "papermill": {
     "duration": 0.025427,
     "end_time": "2022-07-07T21:34:03.498493",
     "exception": false,
     "start_time": "2022-07-07T21:34:03.473066",
     "status": "completed"
    },
    "tags": []
   },
   "outputs": [
    {
     "data": {
      "text/plain": [
       "array([[  0.],\n",
       "       [  0.],\n",
       "       [  0.],\n",
       "       [  0.],\n",
       "       [ 22.],\n",
       "       [ 96.],\n",
       "       [  0.],\n",
       "       [ 42.],\n",
       "       [ 49.],\n",
       "       [ 16.],\n",
       "       [  0.],\n",
       "       [  0.],\n",
       "       [179.],\n",
       "       [ 85.],\n",
       "       [ 23.],\n",
       "       [ 10.],\n",
       "       [ 16.],\n",
       "       [ 22.],\n",
       "       [ 56.],\n",
       "       [ 28.],\n",
       "       [ 56.],\n",
       "       [  3.],\n",
       "       [ 25.],\n",
       "       [ 35.],\n",
       "       [ 42.],\n",
       "       [ 42.],\n",
       "       [ 35.],\n",
       "       [ 49.],\n",
       "       [ 91.],\n",
       "       [ 18.],\n",
       "       [ 24.],\n",
       "       [ 77.],\n",
       "       [ 42.],\n",
       "       [ 85.],\n",
       "       [ 13.],\n",
       "       [ 21.],\n",
       "       [147.],\n",
       "       [ 42.],\n",
       "       [ 12.],\n",
       "       [ 22.],\n",
       "       [ 22.],\n",
       "       [ 68.],\n",
       "       [ 58.],\n",
       "       [ 63.],\n",
       "       [ 43.],\n",
       "       [104.],\n",
       "       [ 86.],\n",
       "       [ 89.],\n",
       "       [ 23.],\n",
       "       [ 66.],\n",
       "       [144.],\n",
       "       [160.],\n",
       "       [ 90.],\n",
       "       [182.],\n",
       "       [154.]])"
      ]
     },
     "execution_count": 11,
     "metadata": {},
     "output_type": "execute_result"
    }
   ],
   "source": [
    "alpha_predict"
   ]
  },
  {
   "cell_type": "code",
   "execution_count": 12,
   "id": "91dae5d2",
   "metadata": {
    "execution": {
     "iopub.execute_input": "2022-07-07T21:34:03.534443Z",
     "iopub.status.busy": "2022-07-07T21:34:03.533584Z",
     "iopub.status.idle": "2022-07-07T21:34:03.539743Z",
     "shell.execute_reply": "2022-07-07T21:34:03.539146Z"
    },
    "papermill": {
     "duration": 0.025311,
     "end_time": "2022-07-07T21:34:03.541226",
     "exception": false,
     "start_time": "2022-07-07T21:34:03.515915",
     "status": "completed"
    },
    "tags": []
   },
   "outputs": [
    {
     "data": {
      "text/plain": [
       "array([[ 0],\n",
       "       [ 1],\n",
       "       [ 2],\n",
       "       [ 3],\n",
       "       [ 4],\n",
       "       [ 5],\n",
       "       [ 6],\n",
       "       [ 7],\n",
       "       [ 8],\n",
       "       [ 9],\n",
       "       [10],\n",
       "       [11],\n",
       "       [12],\n",
       "       [13],\n",
       "       [14],\n",
       "       [15],\n",
       "       [16],\n",
       "       [17],\n",
       "       [18],\n",
       "       [19],\n",
       "       [20],\n",
       "       [21],\n",
       "       [22],\n",
       "       [23],\n",
       "       [24],\n",
       "       [25],\n",
       "       [26],\n",
       "       [27],\n",
       "       [28],\n",
       "       [29],\n",
       "       [30],\n",
       "       [31],\n",
       "       [32],\n",
       "       [33],\n",
       "       [34],\n",
       "       [35],\n",
       "       [36],\n",
       "       [37],\n",
       "       [38],\n",
       "       [39],\n",
       "       [40],\n",
       "       [41],\n",
       "       [42],\n",
       "       [43],\n",
       "       [44],\n",
       "       [45],\n",
       "       [46],\n",
       "       [47],\n",
       "       [48],\n",
       "       [49],\n",
       "       [50],\n",
       "       [51],\n",
       "       [52],\n",
       "       [53],\n",
       "       [54]])"
      ]
     },
     "execution_count": 12,
     "metadata": {},
     "output_type": "execute_result"
    }
   ],
   "source": [
    "alpha_indexes"
   ]
  },
  {
   "cell_type": "markdown",
   "id": "a021627c",
   "metadata": {
    "papermill": {
     "duration": 0.017126,
     "end_time": "2022-07-07T21:34:03.576096",
     "exception": false,
     "start_time": "2022-07-07T21:34:03.558970",
     "status": "completed"
    },
    "tags": []
   },
   "source": [
    "#### 4.2.2 - Open Beta"
   ]
  },
  {
   "cell_type": "code",
   "execution_count": 13,
   "id": "bc1e48ad",
   "metadata": {
    "execution": {
     "iopub.execute_input": "2022-07-07T21:34:03.613086Z",
     "iopub.status.busy": "2022-07-07T21:34:03.612500Z",
     "iopub.status.idle": "2022-07-07T21:34:03.616928Z",
     "shell.execute_reply": "2022-07-07T21:34:03.616333Z"
    },
    "papermill": {
     "duration": 0.024687,
     "end_time": "2022-07-07T21:34:03.618700",
     "exception": false,
     "start_time": "2022-07-07T21:34:03.594013",
     "status": "completed"
    },
    "tags": []
   },
   "outputs": [],
   "source": [
    "beta_predict, beta_indexes = get_value_array_and_indexes(champions_after_open_beta, 'lauch_time_from_previous')"
   ]
  },
  {
   "cell_type": "code",
   "execution_count": 14,
   "id": "e006fa02",
   "metadata": {
    "execution": {
     "iopub.execute_input": "2022-07-07T21:34:03.655474Z",
     "iopub.status.busy": "2022-07-07T21:34:03.654874Z",
     "iopub.status.idle": "2022-07-07T21:34:03.661450Z",
     "shell.execute_reply": "2022-07-07T21:34:03.660706Z"
    },
    "papermill": {
     "duration": 0.02655,
     "end_time": "2022-07-07T21:34:03.663021",
     "exception": false,
     "start_time": "2022-07-07T21:34:03.636471",
     "status": "completed"
    },
    "tags": []
   },
   "outputs": [
    {
     "data": {
      "text/plain": [
       "array([[ 22.],\n",
       "       [ 56.],\n",
       "       [ 28.],\n",
       "       [ 56.],\n",
       "       [  3.],\n",
       "       [ 25.],\n",
       "       [ 35.],\n",
       "       [ 42.],\n",
       "       [ 42.],\n",
       "       [ 35.],\n",
       "       [ 49.],\n",
       "       [ 91.],\n",
       "       [ 18.],\n",
       "       [ 24.],\n",
       "       [ 77.],\n",
       "       [ 42.],\n",
       "       [ 85.],\n",
       "       [ 13.],\n",
       "       [ 21.],\n",
       "       [147.],\n",
       "       [ 42.],\n",
       "       [ 12.],\n",
       "       [ 22.],\n",
       "       [ 22.],\n",
       "       [ 68.],\n",
       "       [ 58.],\n",
       "       [ 63.],\n",
       "       [ 43.],\n",
       "       [104.],\n",
       "       [ 86.],\n",
       "       [ 89.],\n",
       "       [ 23.],\n",
       "       [ 66.],\n",
       "       [144.],\n",
       "       [160.],\n",
       "       [ 90.],\n",
       "       [182.],\n",
       "       [154.]])"
      ]
     },
     "execution_count": 14,
     "metadata": {},
     "output_type": "execute_result"
    }
   ],
   "source": [
    "beta_predict"
   ]
  },
  {
   "cell_type": "code",
   "execution_count": 15,
   "id": "e1e67295",
   "metadata": {
    "execution": {
     "iopub.execute_input": "2022-07-07T21:34:03.699396Z",
     "iopub.status.busy": "2022-07-07T21:34:03.698859Z",
     "iopub.status.idle": "2022-07-07T21:34:03.704851Z",
     "shell.execute_reply": "2022-07-07T21:34:03.704236Z"
    },
    "papermill": {
     "duration": 0.025843,
     "end_time": "2022-07-07T21:34:03.706458",
     "exception": false,
     "start_time": "2022-07-07T21:34:03.680615",
     "status": "completed"
    },
    "tags": []
   },
   "outputs": [
    {
     "data": {
      "text/plain": [
       "array([[ 0],\n",
       "       [ 1],\n",
       "       [ 2],\n",
       "       [ 3],\n",
       "       [ 4],\n",
       "       [ 5],\n",
       "       [ 6],\n",
       "       [ 7],\n",
       "       [ 8],\n",
       "       [ 9],\n",
       "       [10],\n",
       "       [11],\n",
       "       [12],\n",
       "       [13],\n",
       "       [14],\n",
       "       [15],\n",
       "       [16],\n",
       "       [17],\n",
       "       [18],\n",
       "       [19],\n",
       "       [20],\n",
       "       [21],\n",
       "       [22],\n",
       "       [23],\n",
       "       [24],\n",
       "       [25],\n",
       "       [26],\n",
       "       [27],\n",
       "       [28],\n",
       "       [29],\n",
       "       [30],\n",
       "       [31],\n",
       "       [32],\n",
       "       [33],\n",
       "       [34],\n",
       "       [35],\n",
       "       [36],\n",
       "       [37]])"
      ]
     },
     "execution_count": 15,
     "metadata": {},
     "output_type": "execute_result"
    }
   ],
   "source": [
    "beta_indexes"
   ]
  },
  {
   "cell_type": "markdown",
   "id": "f1ce2dae",
   "metadata": {
    "papermill": {
     "duration": 0.017601,
     "end_time": "2022-07-07T21:34:03.741923",
     "exception": false,
     "start_time": "2022-07-07T21:34:03.724322",
     "status": "completed"
    },
    "tags": []
   },
   "source": [
    "#### 4.2.3 - Launch"
   ]
  },
  {
   "cell_type": "code",
   "execution_count": 16,
   "id": "c15a5f22",
   "metadata": {
    "execution": {
     "iopub.execute_input": "2022-07-07T21:34:03.778811Z",
     "iopub.status.busy": "2022-07-07T21:34:03.778457Z",
     "iopub.status.idle": "2022-07-07T21:34:03.784628Z",
     "shell.execute_reply": "2022-07-07T21:34:03.783899Z"
    },
    "papermill": {
     "duration": 0.026793,
     "end_time": "2022-07-07T21:34:03.786388",
     "exception": false,
     "start_time": "2022-07-07T21:34:03.759595",
     "status": "completed"
    },
    "tags": []
   },
   "outputs": [],
   "source": [
    "launch_predict, launch_indexes = get_value_array_and_indexes(champions_after_launch, 'lauch_time_from_previous')"
   ]
  },
  {
   "cell_type": "code",
   "execution_count": 17,
   "id": "9b681e0d",
   "metadata": {
    "execution": {
     "iopub.execute_input": "2022-07-07T21:34:03.825276Z",
     "iopub.status.busy": "2022-07-07T21:34:03.824655Z",
     "iopub.status.idle": "2022-07-07T21:34:03.831106Z",
     "shell.execute_reply": "2022-07-07T21:34:03.830367Z"
    },
    "papermill": {
     "duration": 0.02801,
     "end_time": "2022-07-07T21:34:03.833120",
     "exception": false,
     "start_time": "2022-07-07T21:34:03.805110",
     "status": "completed"
    },
    "tags": []
   },
   "outputs": [
    {
     "data": {
      "text/plain": [
       "array([[ 85.],\n",
       "       [ 13.],\n",
       "       [ 21.],\n",
       "       [147.],\n",
       "       [ 42.],\n",
       "       [ 12.],\n",
       "       [ 22.],\n",
       "       [ 22.],\n",
       "       [ 68.],\n",
       "       [ 58.],\n",
       "       [ 63.],\n",
       "       [ 43.],\n",
       "       [104.],\n",
       "       [ 86.],\n",
       "       [ 89.],\n",
       "       [ 23.],\n",
       "       [ 66.],\n",
       "       [144.],\n",
       "       [160.],\n",
       "       [ 90.],\n",
       "       [182.],\n",
       "       [154.]])"
      ]
     },
     "execution_count": 17,
     "metadata": {},
     "output_type": "execute_result"
    }
   ],
   "source": [
    "launch_predict"
   ]
  },
  {
   "cell_type": "code",
   "execution_count": 18,
   "id": "230a03f2",
   "metadata": {
    "execution": {
     "iopub.execute_input": "2022-07-07T21:34:03.872264Z",
     "iopub.status.busy": "2022-07-07T21:34:03.871611Z",
     "iopub.status.idle": "2022-07-07T21:34:03.878314Z",
     "shell.execute_reply": "2022-07-07T21:34:03.877570Z"
    },
    "papermill": {
     "duration": 0.028515,
     "end_time": "2022-07-07T21:34:03.880151",
     "exception": false,
     "start_time": "2022-07-07T21:34:03.851636",
     "status": "completed"
    },
    "tags": []
   },
   "outputs": [
    {
     "data": {
      "text/plain": [
       "array([[ 0],\n",
       "       [ 1],\n",
       "       [ 2],\n",
       "       [ 3],\n",
       "       [ 4],\n",
       "       [ 5],\n",
       "       [ 6],\n",
       "       [ 7],\n",
       "       [ 8],\n",
       "       [ 9],\n",
       "       [10],\n",
       "       [11],\n",
       "       [12],\n",
       "       [13],\n",
       "       [14],\n",
       "       [15],\n",
       "       [16],\n",
       "       [17],\n",
       "       [18],\n",
       "       [19],\n",
       "       [20],\n",
       "       [21]])"
      ]
     },
     "execution_count": 18,
     "metadata": {},
     "output_type": "execute_result"
    }
   ],
   "source": [
    "launch_indexes"
   ]
  },
  {
   "cell_type": "markdown",
   "id": "4701e259",
   "metadata": {
    "papermill": {
     "duration": 0.018556,
     "end_time": "2022-07-07T21:34:03.917800",
     "exception": false,
     "start_time": "2022-07-07T21:34:03.899244",
     "status": "completed"
    },
    "tags": []
   },
   "source": [
    "## 4.3 - Linear Regression and prediction of the next 3 legends launch"
   ]
  },
  {
   "cell_type": "markdown",
   "id": "df2ead43",
   "metadata": {
    "papermill": {
     "duration": 0.018638,
     "end_time": "2022-07-07T21:34:03.955397",
     "exception": false,
     "start_time": "2022-07-07T21:34:03.936759",
     "status": "completed"
    },
    "tags": []
   },
   "source": [
    "### 4.3.1 - Including all legends"
   ]
  },
  {
   "cell_type": "code",
   "execution_count": 19,
   "id": "08827b0d",
   "metadata": {
    "execution": {
     "iopub.execute_input": "2022-07-07T21:34:03.994959Z",
     "iopub.status.busy": "2022-07-07T21:34:03.994674Z",
     "iopub.status.idle": "2022-07-07T21:34:04.014310Z",
     "shell.execute_reply": "2022-07-07T21:34:04.013246Z"
    },
    "papermill": {
     "duration": 0.041393,
     "end_time": "2022-07-07T21:34:04.015972",
     "exception": false,
     "start_time": "2022-07-07T21:34:03.974579",
     "status": "completed"
    },
    "tags": []
   },
   "outputs": [
    {
     "data": {
      "text/plain": [
       "LinearRegression()"
      ]
     },
     "execution_count": 19,
     "metadata": {},
     "output_type": "execute_result"
    }
   ],
   "source": [
    "alpha_regression = LinearRegression()\n",
    "alpha_regression.fit(alpha_indexes, alpha_predict)"
   ]
  },
  {
   "cell_type": "code",
   "execution_count": 20,
   "id": "7c33fa57",
   "metadata": {
    "execution": {
     "iopub.execute_input": "2022-07-07T21:34:04.055485Z",
     "iopub.status.busy": "2022-07-07T21:34:04.055060Z",
     "iopub.status.idle": "2022-07-07T21:34:04.058799Z",
     "shell.execute_reply": "2022-07-07T21:34:04.058221Z"
    },
    "papermill": {
     "duration": 0.025414,
     "end_time": "2022-07-07T21:34:04.060447",
     "exception": false,
     "start_time": "2022-07-07T21:34:04.035033",
     "status": "completed"
    },
    "tags": []
   },
   "outputs": [],
   "source": [
    "to_predict_launch_dates_index_alpha = [55,56,57]\n",
    "to_predict_launch_dates_index_alpha = np.array(to_predict_launch_dates_index_alpha).reshape(-1,1)"
   ]
  },
  {
   "cell_type": "code",
   "execution_count": 21,
   "id": "530d6982",
   "metadata": {
    "execution": {
     "iopub.execute_input": "2022-07-07T21:34:04.100460Z",
     "iopub.status.busy": "2022-07-07T21:34:04.100095Z",
     "iopub.status.idle": "2022-07-07T21:34:04.107689Z",
     "shell.execute_reply": "2022-07-07T21:34:04.106432Z"
    },
    "papermill": {
     "duration": 0.031213,
     "end_time": "2022-07-07T21:34:04.110722",
     "exception": false,
     "start_time": "2022-07-07T21:34:04.079509",
     "status": "completed"
    },
    "tags": []
   },
   "outputs": [
    {
     "name": "stdout",
     "output_type": "stream",
     "text": [
      "Predicted Launch times:\n",
      " [[96.69292929]\n",
      " [98.27806638]\n",
      " [99.86320346]]\n"
     ]
    }
   ],
   "source": [
    "predicted_launch_times = alpha_regression.predict(to_predict_launch_dates_index_alpha)\n",
    "m_alpha = alpha_regression.coef_\n",
    "c_alpha = alpha_regression.intercept_\n",
    "print(\"Predicted Launch times:\\n\", predicted_launch_times)"
   ]
  },
  {
   "cell_type": "markdown",
   "id": "bb91774f",
   "metadata": {
    "papermill": {
     "duration": 0.028265,
     "end_time": "2022-07-07T21:34:04.168228",
     "exception": false,
     "start_time": "2022-07-07T21:34:04.139963",
     "status": "completed"
    },
    "tags": []
   },
   "source": [
    "#### Plotting"
   ]
  },
  {
   "cell_type": "code",
   "execution_count": 22,
   "id": "fa239825",
   "metadata": {
    "execution": {
     "iopub.execute_input": "2022-07-07T21:34:04.226889Z",
     "iopub.status.busy": "2022-07-07T21:34:04.226246Z",
     "iopub.status.idle": "2022-07-07T21:34:04.235705Z",
     "shell.execute_reply": "2022-07-07T21:34:04.234898Z"
    },
    "papermill": {
     "duration": 0.040945,
     "end_time": "2022-07-07T21:34:04.237513",
     "exception": false,
     "start_time": "2022-07-07T21:34:04.196568",
     "status": "completed"
    },
    "tags": []
   },
   "outputs": [],
   "source": [
    "def plot_graph(title, x_label, y_label, dataframe, column):\n",
    "    %matplotlib inline\n",
    "    f = plt.figure(figsize=(8, 4))\n",
    "    plt.title(title)  \n",
    "    plt.xlabel(x_label)  \n",
    "    plt.ylabel(y_label) \n",
    "    plt.scatter(dataframe.index, dataframe[column], color=\"black\")\n",
    "    plt.plot(dataframe.index, dataframe[column], color=\"blue\", linewidth=3)\n",
    "    plt.xticks(())\n",
    "    plt.show()\n",
    "    "
   ]
  },
  {
   "cell_type": "code",
   "execution_count": 23,
   "id": "63cd86be",
   "metadata": {
    "execution": {
     "iopub.execute_input": "2022-07-07T21:34:04.296432Z",
     "iopub.status.busy": "2022-07-07T21:34:04.295707Z",
     "iopub.status.idle": "2022-07-07T21:34:04.313012Z",
     "shell.execute_reply": "2022-07-07T21:34:04.312019Z"
    },
    "papermill": {
     "duration": 0.049283,
     "end_time": "2022-07-07T21:34:04.315386",
     "exception": false,
     "start_time": "2022-07-07T21:34:04.266103",
     "status": "completed"
    },
    "tags": []
   },
   "outputs": [],
   "source": [
    "def plot_regression_data(title, x_label, y_label, dataframe, regression_column, coeficient, intercept, train_indexes, predicted_indexes, scale, confidence_interval):\n",
    "    %matplotlib inline\n",
    "    f = plt.figure(figsize=(8, 4))\n",
    "    plt.title(title)  \n",
    "    plt.xlabel(x_label)  \n",
    "    plt.ylabel(y_label) \n",
    "    plt.scatter(dataframe.index, dataframe[regression_column], color=\"black\")\n",
    "    plt.plot(dataframe.index, dataframe[regression_column], color=\"blue\", linewidth=3)\n",
    "    plt.xticks(())\n",
    "    ax = plt.gca()\n",
    "    ax.axes.yaxis.set_ticklabels([])\n",
    "    new_y = [coeficient * i + intercept for i in np.append(train_indexes, predicted_indexes)]\n",
    "    new_y = np.array(new_y).reshape(-1)\n",
    "    plt.plot(np.append(train_indexes, predicted_indexes),new_y,color=\"red\", linewidth=3)\n",
    "    ax.fill_between(np.append(train_indexes, predicted_indexes), (new_y-confidence_interval[0]), (new_y+confidence_interval[1]), color='red', alpha=.1)\n",
    "    plt.yscale(scale)\n",
    "    plt.yticks(())\n",
    "    plt.show()\n",
    "    "
   ]
  },
  {
   "cell_type": "code",
   "execution_count": 24,
   "id": "92c77ecb",
   "metadata": {
    "execution": {
     "iopub.execute_input": "2022-07-07T21:34:04.373584Z",
     "iopub.status.busy": "2022-07-07T21:34:04.373291Z",
     "iopub.status.idle": "2022-07-07T21:34:04.381013Z",
     "shell.execute_reply": "2022-07-07T21:34:04.380090Z"
    },
    "papermill": {
     "duration": 0.038959,
     "end_time": "2022-07-07T21:34:04.382910",
     "exception": false,
     "start_time": "2022-07-07T21:34:04.343951",
     "status": "completed"
    },
    "tags": []
   },
   "outputs": [
    {
     "data": {
      "text/plain": [
       "(array([39.5620555]), array([65.05612632]))"
      ]
     },
     "execution_count": 24,
     "metadata": {},
     "output_type": "execute_result"
    }
   ],
   "source": [
    "confidence_interval_alpha = st.norm.interval(alpha=0.95,\n",
    "                 loc=np.mean(champions['lauch_time_from_previous']),\n",
    "                 scale=st.sem(alpha_predict))\n",
    "confidence_interval_alpha"
   ]
  },
  {
   "cell_type": "code",
   "execution_count": 25,
   "id": "ffea5326",
   "metadata": {
    "execution": {
     "iopub.execute_input": "2022-07-07T21:34:04.443575Z",
     "iopub.status.busy": "2022-07-07T21:34:04.443173Z",
     "iopub.status.idle": "2022-07-07T21:34:04.696539Z",
     "shell.execute_reply": "2022-07-07T21:34:04.695843Z"
    },
    "papermill": {
     "duration": 0.287041,
     "end_time": "2022-07-07T21:34:04.698662",
     "exception": false,
     "start_time": "2022-07-07T21:34:04.411621",
     "status": "completed"
    },
    "tags": []
   },
   "outputs": [
    {
     "data": {
      "image/png": "[encoded data removed]",
      "text/plain": [
       "<Figure size 576x288 with 1 Axes>"
      ]
     },
     "metadata": {
      "needs_background": "light"
     },
     "output_type": "display_data"
    },
    {
     "data": {
      "image/png": "[encoded data removed]",
      "text/plain": [
       "<Figure size 576x288 with 1 Axes>"
      ]
     },
     "metadata": {},
     "output_type": "display_data"
    }
   ],
   "source": [
    "plot_graph('Lauch Time Between Legends, in days - Alpha', 'Legend number', 'Days to launch', champions, 'lauch_time_from_previous')\n",
    "plot_regression_data('Lauch Time Between Legends: Linear Curve - Alpha', 'Legend', 'Days to launch', champions, 'lauch_time_from_previous', m_alpha, c_alpha, alpha_indexes, to_predict_launch_dates_index_alpha, \"linear\", confidence_interval_alpha)"
   ]
  },
  {
   "cell_type": "markdown",
   "id": "443a9d37",
   "metadata": {
    "papermill": {
     "duration": 0.032325,
     "end_time": "2022-07-07T21:34:04.768927",
     "exception": false,
     "start_time": "2022-07-07T21:34:04.736602",
     "status": "completed"
    },
    "tags": []
   },
   "source": [
    "### 4.3.2 - Only with legends after Open Beta Release"
   ]
  },
  {
   "cell_type": "code",
   "execution_count": 26,
   "id": "1c420612",
   "metadata": {
    "execution": {
     "iopub.execute_input": "2022-07-07T21:34:04.831513Z",
     "iopub.status.busy": "2022-07-07T21:34:04.831060Z",
     "iopub.status.idle": "2022-07-07T21:34:04.837915Z",
     "shell.execute_reply": "2022-07-07T21:34:04.837247Z"
    },
    "papermill": {
     "duration": 0.039775,
     "end_time": "2022-07-07T21:34:04.839737",
     "exception": false,
     "start_time": "2022-07-07T21:34:04.799962",
     "status": "completed"
    },
    "tags": []
   },
   "outputs": [
    {
     "data": {
      "text/plain": [
       "LinearRegression()"
      ]
     },
     "execution_count": 26,
     "metadata": {},
     "output_type": "execute_result"
    }
   ],
   "source": [
    "beta_regression = LinearRegression()\n",
    "beta_regression.fit(beta_indexes, beta_predict)"
   ]
  },
  {
   "cell_type": "code",
   "execution_count": 27,
   "id": "3aa7d258",
   "metadata": {
    "execution": {
     "iopub.execute_input": "2022-07-07T21:34:04.902685Z",
     "iopub.status.busy": "2022-07-07T21:34:04.902061Z",
     "iopub.status.idle": "2022-07-07T21:34:04.906553Z",
     "shell.execute_reply": "2022-07-07T21:34:04.905613Z"
    },
    "papermill": {
     "duration": 0.038553,
     "end_time": "2022-07-07T21:34:04.908821",
     "exception": false,
     "start_time": "2022-07-07T21:34:04.870268",
     "status": "completed"
    },
    "tags": []
   },
   "outputs": [],
   "source": [
    "to_predict_launch_dates_index_beta = [38,39,40]\n",
    "to_predict_launch_dates_index_beta = np.array(to_predict_launch_dates_index_beta).reshape(-1,1)"
   ]
  },
  {
   "cell_type": "code",
   "execution_count": 28,
   "id": "c3ac2d3e",
   "metadata": {
    "execution": {
     "iopub.execute_input": "2022-07-07T21:34:04.972507Z",
     "iopub.status.busy": "2022-07-07T21:34:04.971618Z",
     "iopub.status.idle": "2022-07-07T21:34:04.977925Z",
     "shell.execute_reply": "2022-07-07T21:34:04.976861Z"
    },
    "papermill": {
     "duration": 0.040381,
     "end_time": "2022-07-07T21:34:04.980173",
     "exception": false,
     "start_time": "2022-07-07T21:34:04.939792",
     "status": "completed"
    },
    "tags": []
   },
   "outputs": [
    {
     "name": "stdout",
     "output_type": "stream",
     "text": [
      "Predicted Launch times:\n",
      " [[109.49928876]\n",
      " [111.95809169]\n",
      " [114.41689463]]\n"
     ]
    }
   ],
   "source": [
    "predicted_launch_times_beta = beta_regression.predict(to_predict_launch_dates_index_beta)\n",
    "m_beta = beta_regression.coef_\n",
    "c_beta = beta_regression.intercept_\n",
    "print(\"Predicted Launch times:\\n\", predicted_launch_times_beta)"
   ]
  },
  {
   "cell_type": "code",
   "execution_count": 29,
   "id": "aadacfbe",
   "metadata": {
    "execution": {
     "iopub.execute_input": "2022-07-07T21:34:05.044121Z",
     "iopub.status.busy": "2022-07-07T21:34:05.043500Z",
     "iopub.status.idle": "2022-07-07T21:34:05.050924Z",
     "shell.execute_reply": "2022-07-07T21:34:05.050244Z"
    },
    "papermill": {
     "duration": 0.041463,
     "end_time": "2022-07-07T21:34:05.052444",
     "exception": false,
     "start_time": "2022-07-07T21:34:05.010981",
     "status": "completed"
    },
    "tags": []
   },
   "outputs": [
    {
     "data": {
      "text/plain": [
       "(array([46.96598162]), array([76.13928154]))"
      ]
     },
     "execution_count": 29,
     "metadata": {},
     "output_type": "execute_result"
    }
   ],
   "source": [
    "confidence_interval = st.norm.interval(alpha=0.95,\n",
    "                 loc=np.mean(champions_after_open_beta['lauch_time_from_previous']),\n",
    "                 scale=st.sem(beta_predict))\n",
    "confidence_interval"
   ]
  },
  {
   "cell_type": "code",
   "execution_count": 30,
   "id": "8c1923fa",
   "metadata": {
    "execution": {
     "iopub.execute_input": "2022-07-07T21:34:05.094790Z",
     "iopub.status.busy": "2022-07-07T21:34:05.094251Z",
     "iopub.status.idle": "2022-07-07T21:34:05.309051Z",
     "shell.execute_reply": "2022-07-07T21:34:05.307873Z"
    },
    "papermill": {
     "duration": 0.239054,
     "end_time": "2022-07-07T21:34:05.311728",
     "exception": false,
     "start_time": "2022-07-07T21:34:05.072674",
     "status": "completed"
    },
    "tags": []
   },
   "outputs": [
    {
     "data": {
      "image/png": "[encoded data removed]",
      "text/plain": [
       "<Figure size 576x288 with 1 Axes>"
      ]
     },
     "metadata": {
      "needs_background": "light"
     },
     "output_type": "display_data"
    },
    {
     "data": {
      "image/png": "[encoded data removed]",
      "text/plain": [
       "<Figure size 576x288 with 1 Axes>"
      ]
     },
     "metadata": {},
     "output_type": "display_data"
    }
   ],
   "source": [
    "plot_graph('Lauch Time Between Legends, in days - Beta', 'Legend number', 'Days to launch', champions_after_open_beta, 'lauch_time_from_previous')\n",
    "plot_regression_data('Lauch Time Between Legends: Linear Curve - Beta', 'Legend', 'Days to launch', champions_after_open_beta, 'lauch_time_from_previous', m_beta, c_beta, beta_indexes, to_predict_launch_dates_index_beta, \"linear\", confidence_interval)"
   ]
  },
  {
   "cell_type": "markdown",
   "id": "3a79baf6",
   "metadata": {
    "papermill": {
     "duration": 0.032567,
     "end_time": "2022-07-07T21:34:05.383793",
     "exception": false,
     "start_time": "2022-07-07T21:34:05.351226",
     "status": "completed"
    },
    "tags": []
   },
   "source": [
    "### 4.3.3 - Only with legends after Final Release"
   ]
  },
  {
   "cell_type": "code",
   "execution_count": 31,
   "id": "0f8ba5a4",
   "metadata": {
    "execution": {
     "iopub.execute_input": "2022-07-07T21:34:05.449710Z",
     "iopub.status.busy": "2022-07-07T21:34:05.448967Z",
     "iopub.status.idle": "2022-07-07T21:34:05.454786Z",
     "shell.execute_reply": "2022-07-07T21:34:05.454241Z"
    },
    "papermill": {
     "duration": 0.040881,
     "end_time": "2022-07-07T21:34:05.456681",
     "exception": false,
     "start_time": "2022-07-07T21:34:05.415800",
     "status": "completed"
    },
    "tags": []
   },
   "outputs": [
    {
     "data": {
      "text/plain": [
       "LinearRegression()"
      ]
     },
     "execution_count": 31,
     "metadata": {},
     "output_type": "execute_result"
    }
   ],
   "source": [
    "launch_regression = LinearRegression()\n",
    "launch_regression.fit(launch_indexes, launch_predict)"
   ]
  },
  {
   "cell_type": "code",
   "execution_count": 32,
   "id": "30dbb061",
   "metadata": {
    "execution": {
     "iopub.execute_input": "2022-07-07T21:34:05.522136Z",
     "iopub.status.busy": "2022-07-07T21:34:05.521668Z",
     "iopub.status.idle": "2022-07-07T21:34:05.524973Z",
     "shell.execute_reply": "2022-07-07T21:34:05.524456Z"
    },
    "papermill": {
     "duration": 0.038213,
     "end_time": "2022-07-07T21:34:05.526744",
     "exception": false,
     "start_time": "2022-07-07T21:34:05.488531",
     "status": "completed"
    },
    "tags": []
   },
   "outputs": [],
   "source": [
    "to_predict_launch_dates_index_final = [22,23,24]\n",
    "to_predict_launch_dates_index_final = np.array(to_predict_launch_dates_index_final).reshape(-1,1)"
   ]
  },
  {
   "cell_type": "code",
   "execution_count": 33,
   "id": "56c8c094",
   "metadata": {
    "execution": {
     "iopub.execute_input": "2022-07-07T21:34:05.592509Z",
     "iopub.status.busy": "2022-07-07T21:34:05.592030Z",
     "iopub.status.idle": "2022-07-07T21:34:05.597569Z",
     "shell.execute_reply": "2022-07-07T21:34:05.596022Z"
    },
    "papermill": {
     "duration": 0.041177,
     "end_time": "2022-07-07T21:34:05.599888",
     "exception": false,
     "start_time": "2022-07-07T21:34:05.558711",
     "status": "completed"
    },
    "tags": []
   },
   "outputs": [
    {
     "name": "stdout",
     "output_type": "stream",
     "text": [
      "Predicted Launch times:\n",
      " [[133.06493506]\n",
      " [137.94014681]\n",
      " [142.81535855]]\n"
     ]
    }
   ],
   "source": [
    "predicted_launch_times_final = launch_regression.predict(to_predict_launch_dates_index_final)\n",
    "m_launch = launch_regression.coef_\n",
    "c_launch = launch_regression.intercept_\n",
    "print(\"Predicted Launch times:\\n\", predicted_launch_times_final)"
   ]
  },
  {
   "cell_type": "code",
   "execution_count": 34,
   "id": "a3c2687f",
   "metadata": {
    "execution": {
     "iopub.execute_input": "2022-07-07T21:34:05.665424Z",
     "iopub.status.busy": "2022-07-07T21:34:05.664914Z",
     "iopub.status.idle": "2022-07-07T21:34:05.672619Z",
     "shell.execute_reply": "2022-07-07T21:34:05.672041Z"
    },
    "papermill": {
     "duration": 0.042575,
     "end_time": "2022-07-07T21:34:05.674420",
     "exception": false,
     "start_time": "2022-07-07T21:34:05.631845",
     "status": "completed"
    },
    "tags": []
   },
   "outputs": [
    {
     "data": {
      "text/plain": [
       "(array([53.70255431]), array([100.29744569]))"
      ]
     },
     "execution_count": 34,
     "metadata": {},
     "output_type": "execute_result"
    }
   ],
   "source": [
    "confidence_interval_launch = st.t.interval(alpha=0.95, df=len(champions_after_launch['lauch_time_from_previous'])-1,\n",
    "              loc=np.mean(champions_after_launch['lauch_time_from_previous']),\n",
    "              scale=st.sem(launch_predict))\n",
    "confidence_interval_launch"
   ]
  },
  {
   "cell_type": "code",
   "execution_count": 35,
   "id": "edb1fd73",
   "metadata": {
    "execution": {
     "iopub.execute_input": "2022-07-07T21:34:05.739998Z",
     "iopub.status.busy": "2022-07-07T21:34:05.739484Z",
     "iopub.status.idle": "2022-07-07T21:34:05.934464Z",
     "shell.execute_reply": "2022-07-07T21:34:05.933385Z"
    },
    "papermill": {
     "duration": 0.230338,
     "end_time": "2022-07-07T21:34:05.936393",
     "exception": false,
     "start_time": "2022-07-07T21:34:05.706055",
     "status": "completed"
    },
    "tags": []
   },
   "outputs": [
    {
     "data": {
      "image/png": "[encoded data removed]",
      "text/plain": [
       "<Figure size 576x288 with 1 Axes>"
      ]
     },
     "metadata": {
      "needs_background": "light"
     },
     "output_type": "display_data"
    },
    {
     "data": {
      "image/png": "[encoded data removed]",
      "text/plain": [
       "<Figure size 576x288 with 1 Axes>"
      ]
     },
     "metadata": {},
     "output_type": "display_data"
    }
   ],
   "source": [
    "plot_graph('Lauch Time Between Legends, in days - Final', 'Legend number', 'Days to launch', champions_after_launch, 'lauch_time_from_previous')\n",
    "plot_regression_data('Lauch Time Between Legends: Linear Curve - Final', 'Legend', 'Days to launch', champions_after_launch, 'lauch_time_from_previous', m_launch, c_launch, launch_indexes, to_predict_launch_dates_index_final, \"linear\", confidence_interval_launch)"
   ]
  },
  {
   "cell_type": "markdown",
   "id": "053d9d4c",
   "metadata": {
    "papermill": {
     "duration": 0.027311,
     "end_time": "2022-07-07T21:34:05.993788",
     "exception": false,
     "start_time": "2022-07-07T21:34:05.966477",
     "status": "completed"
    },
    "tags": []
   },
   "source": [
    "## 4.4 - Log Regression and prediction of the next 3 legends launch"
   ]
  },
  {
   "cell_type": "code",
   "execution_count": 36,
   "id": "f43a7461",
   "metadata": {
    "execution": {
     "iopub.execute_input": "2022-07-07T21:34:06.039789Z",
     "iopub.status.busy": "2022-07-07T21:34:06.039242Z",
     "iopub.status.idle": "2022-07-07T21:34:06.045217Z",
     "shell.execute_reply": "2022-07-07T21:34:06.044508Z"
    },
    "papermill": {
     "duration": 0.031627,
     "end_time": "2022-07-07T21:34:06.047668",
     "exception": false,
     "start_time": "2022-07-07T21:34:06.016041",
     "status": "completed"
    },
    "tags": []
   },
   "outputs": [],
   "source": [
    "def get_log_array_indexes_and_fit(dataset):\n",
    "    log_array = np.array(dataset)\n",
    "    log_indexes = np.log(np.arange(1, dataset.shape[0]+1, 1))\n",
    "    log_fit = np.polyfit(log_indexes, log_array, 1)\n",
    "    return [log_array, log_indexes, log_fit]"
   ]
  },
  {
   "cell_type": "code",
   "execution_count": 37,
   "id": "01f39db3",
   "metadata": {
    "execution": {
     "iopub.execute_input": "2022-07-07T21:34:06.114858Z",
     "iopub.status.busy": "2022-07-07T21:34:06.114551Z",
     "iopub.status.idle": "2022-07-07T21:34:06.120252Z",
     "shell.execute_reply": "2022-07-07T21:34:06.119499Z"
    },
    "papermill": {
     "duration": 0.041402,
     "end_time": "2022-07-07T21:34:06.122024",
     "exception": false,
     "start_time": "2022-07-07T21:34:06.080622",
     "status": "completed"
    },
    "tags": []
   },
   "outputs": [],
   "source": [
    "def get_prediction_indexes_list(dataset, number_of_predictions):\n",
    "    aux = 1\n",
    "    list_of_future_indexes = []\n",
    "    while (aux <= number_of_predictions):\n",
    "        list_of_future_indexes.append(dataset.shape[0]+aux)\n",
    "        aux += 1\n",
    "    return list_of_future_indexes"
   ]
  },
  {
   "cell_type": "markdown",
   "id": "d109282e",
   "metadata": {
    "papermill": {
     "duration": 0.033475,
     "end_time": "2022-07-07T21:34:06.188550",
     "exception": false,
     "start_time": "2022-07-07T21:34:06.155075",
     "status": "completed"
    },
    "tags": []
   },
   "source": [
    "### 4.4.1 - Including all legends"
   ]
  },
  {
   "cell_type": "code",
   "execution_count": 38,
   "id": "3b528f33",
   "metadata": {
    "execution": {
     "iopub.execute_input": "2022-07-07T21:34:06.268282Z",
     "iopub.status.busy": "2022-07-07T21:34:06.267277Z",
     "iopub.status.idle": "2022-07-07T21:34:06.276645Z",
     "shell.execute_reply": "2022-07-07T21:34:06.275763Z"
    },
    "papermill": {
     "duration": 0.054727,
     "end_time": "2022-07-07T21:34:06.278369",
     "exception": false,
     "start_time": "2022-07-07T21:34:06.223642",
     "status": "completed"
    },
    "tags": []
   },
   "outputs": [
    {
     "data": {
      "text/plain": [
       "array([[ 24.38223053],\n",
       "       [-22.31270146]])"
      ]
     },
     "execution_count": 38,
     "metadata": {},
     "output_type": "execute_result"
    }
   ],
   "source": [
    "alpha_log_array, alpha_log_indexes, alpha_log_fit = get_log_array_indexes_and_fit(alpha_predict)\n",
    "alpha_log_fit"
   ]
  },
  {
   "cell_type": "code",
   "execution_count": 39,
   "id": "e4e6ae21",
   "metadata": {
    "execution": {
     "iopub.execute_input": "2022-07-07T21:34:06.324298Z",
     "iopub.status.busy": "2022-07-07T21:34:06.323681Z",
     "iopub.status.idle": "2022-07-07T21:34:06.330605Z",
     "shell.execute_reply": "2022-07-07T21:34:06.329862Z"
    },
    "papermill": {
     "duration": 0.031994,
     "end_time": "2022-07-07T21:34:06.332328",
     "exception": false,
     "start_time": "2022-07-07T21:34:06.300334",
     "status": "completed"
    },
    "tags": []
   },
   "outputs": [
    {
     "data": {
      "text/plain": [
       "array([4.02535169, 4.04305127, 4.06044301])"
      ]
     },
     "execution_count": 39,
     "metadata": {},
     "output_type": "execute_result"
    }
   ],
   "source": [
    "to_predict_launch_dates_index_alpha = get_prediction_indexes_list(alpha_predict, 3) # [champions.shape[0]+1, champions.shape[0]+2, champions.shape[0]+3]\n",
    "to_predict_launch_dates_index_alpha = np.log(to_predict_launch_dates_index_alpha)\n",
    "to_predict_launch_dates_index_alpha"
   ]
  },
  {
   "cell_type": "code",
   "execution_count": 40,
   "id": "e65797f5",
   "metadata": {
    "execution": {
     "iopub.execute_input": "2022-07-07T21:34:06.378183Z",
     "iopub.status.busy": "2022-07-07T21:34:06.377898Z",
     "iopub.status.idle": "2022-07-07T21:34:06.383825Z",
     "shell.execute_reply": "2022-07-07T21:34:06.382890Z"
    },
    "papermill": {
     "duration": 0.031134,
     "end_time": "2022-07-07T21:34:06.385557",
     "exception": false,
     "start_time": "2022-07-07T21:34:06.354423",
     "status": "completed"
    },
    "tags": []
   },
   "outputs": [
    {
     "data": {
      "text/plain": [
       "array([75.83435145, 76.26590662, 76.6899561 ])"
      ]
     },
     "execution_count": 40,
     "metadata": {},
     "output_type": "execute_result"
    }
   ],
   "source": [
    "predicted_launch_times = alpha_log_fit[1] + alpha_log_fit[0] * to_predict_launch_dates_index_alpha\n",
    "predicted_launch_times"
   ]
  },
  {
   "cell_type": "code",
   "execution_count": 41,
   "id": "4989b75e",
   "metadata": {
    "execution": {
     "iopub.execute_input": "2022-07-07T21:34:06.432193Z",
     "iopub.status.busy": "2022-07-07T21:34:06.431587Z",
     "iopub.status.idle": "2022-07-07T21:34:06.440013Z",
     "shell.execute_reply": "2022-07-07T21:34:06.439241Z"
    },
    "papermill": {
     "duration": 0.033986,
     "end_time": "2022-07-07T21:34:06.441745",
     "exception": false,
     "start_time": "2022-07-07T21:34:06.407759",
     "status": "completed"
    },
    "tags": []
   },
   "outputs": [
    {
     "data": {
      "text/plain": [
       "(array([39.5620555]), array([65.05612632]))"
      ]
     },
     "execution_count": 41,
     "metadata": {},
     "output_type": "execute_result"
    }
   ],
   "source": [
    "confidence_interval_alpha = st.norm.interval(alpha=0.95,\n",
    "                 loc=np.mean(champions['lauch_time_from_previous']),\n",
    "                 scale=st.sem(alpha_predict))\n",
    "confidence_interval_alpha"
   ]
  },
  {
   "cell_type": "code",
   "execution_count": 42,
   "id": "1d7db3f4",
   "metadata": {
    "execution": {
     "iopub.execute_input": "2022-07-07T21:34:06.488048Z",
     "iopub.status.busy": "2022-07-07T21:34:06.487750Z",
     "iopub.status.idle": "2022-07-07T21:34:06.742940Z",
     "shell.execute_reply": "2022-07-07T21:34:06.741952Z"
    },
    "papermill": {
     "duration": 0.280722,
     "end_time": "2022-07-07T21:34:06.745131",
     "exception": false,
     "start_time": "2022-07-07T21:34:06.464409",
     "status": "completed"
    },
    "tags": []
   },
   "outputs": [
    {
     "data": {
      "image/png": "[encoded data removed]",
      "text/plain": [
       "<Figure size 576x288 with 1 Axes>"
      ]
     },
     "metadata": {},
     "output_type": "display_data"
    }
   ],
   "source": [
    "plot_regression_data('Lauch Time Between Legends: Logarithmic Curve - Since Alpha', 'Legend', 'Days to launch', champions, 'lauch_time_from_previous', alpha_log_fit[0], alpha_log_fit[1], alpha_log_indexes, predicted_launch_times, \"log\", confidence_interval_alpha)"
   ]
  },
  {
   "cell_type": "markdown",
   "id": "aee15cbd",
   "metadata": {
    "papermill": {
     "duration": 0.034183,
     "end_time": "2022-07-07T21:34:06.813165",
     "exception": false,
     "start_time": "2022-07-07T21:34:06.778982",
     "status": "completed"
    },
    "tags": []
   },
   "source": [
    "### 4.4.2 - Including only since beta launch date"
   ]
  },
  {
   "cell_type": "code",
   "execution_count": 43,
   "id": "34864265",
   "metadata": {
    "execution": {
     "iopub.execute_input": "2022-07-07T21:34:06.882971Z",
     "iopub.status.busy": "2022-07-07T21:34:06.882092Z",
     "iopub.status.idle": "2022-07-07T21:34:06.888091Z",
     "shell.execute_reply": "2022-07-07T21:34:06.887488Z"
    },
    "papermill": {
     "duration": 0.042101,
     "end_time": "2022-07-07T21:34:06.889807",
     "exception": false,
     "start_time": "2022-07-07T21:34:06.847706",
     "status": "completed"
    },
    "tags": []
   },
   "outputs": [
    {
     "data": {
      "text/plain": [
       "array([[24.44642158],\n",
       "       [-4.68957877]])"
      ]
     },
     "execution_count": 43,
     "metadata": {},
     "output_type": "execute_result"
    }
   ],
   "source": [
    "beta_log_array, beta_log_indexes, beta_log_fit = get_log_array_indexes_and_fit(beta_predict)\n",
    "beta_log_fit"
   ]
  },
  {
   "cell_type": "code",
   "execution_count": 44,
   "id": "bdffc64b",
   "metadata": {
    "execution": {
     "iopub.execute_input": "2022-07-07T21:34:06.956949Z",
     "iopub.status.busy": "2022-07-07T21:34:06.956431Z",
     "iopub.status.idle": "2022-07-07T21:34:06.962173Z",
     "shell.execute_reply": "2022-07-07T21:34:06.961569Z"
    },
    "papermill": {
     "duration": 0.041036,
     "end_time": "2022-07-07T21:34:06.963882",
     "exception": false,
     "start_time": "2022-07-07T21:34:06.922846",
     "status": "completed"
    },
    "tags": []
   },
   "outputs": [
    {
     "data": {
      "text/plain": [
       "array([3.66356165, 3.68887945, 3.71357207])"
      ]
     },
     "execution_count": 44,
     "metadata": {},
     "output_type": "execute_result"
    }
   ],
   "source": [
    "to_predict_launch_dates_index_beta = get_prediction_indexes_list(beta_predict, 3) # [champions.shape[0]+1, champions.shape[0]+2, champions.shape[0]+3]\n",
    "to_predict_launch_dates_index_beta = np.log(to_predict_launch_dates_index_beta)\n",
    "to_predict_launch_dates_index_beta"
   ]
  },
  {
   "cell_type": "code",
   "execution_count": 45,
   "id": "52679e48",
   "metadata": {
    "execution": {
     "iopub.execute_input": "2022-07-07T21:34:07.031632Z",
     "iopub.status.busy": "2022-07-07T21:34:07.031103Z",
     "iopub.status.idle": "2022-07-07T21:34:07.036776Z",
     "shell.execute_reply": "2022-07-07T21:34:07.036154Z"
    },
    "papermill": {
     "duration": 0.041649,
     "end_time": "2022-07-07T21:34:07.038539",
     "exception": false,
     "start_time": "2022-07-07T21:34:06.996890",
     "status": "completed"
    },
    "tags": []
   },
   "outputs": [
    {
     "data": {
      "text/plain": [
       "array([84.87139374, 85.49032354, 86.09396956])"
      ]
     },
     "execution_count": 45,
     "metadata": {},
     "output_type": "execute_result"
    }
   ],
   "source": [
    "predicted_launch_times = beta_log_fit[1] + beta_log_fit[0] * to_predict_launch_dates_index_beta\n",
    "predicted_launch_times"
   ]
  },
  {
   "cell_type": "code",
   "execution_count": 46,
   "id": "018f3a74",
   "metadata": {
    "execution": {
     "iopub.execute_input": "2022-07-07T21:34:07.106307Z",
     "iopub.status.busy": "2022-07-07T21:34:07.105752Z",
     "iopub.status.idle": "2022-07-07T21:34:07.112858Z",
     "shell.execute_reply": "2022-07-07T21:34:07.112243Z"
    },
    "papermill": {
     "duration": 0.042942,
     "end_time": "2022-07-07T21:34:07.114645",
     "exception": false,
     "start_time": "2022-07-07T21:34:07.071703",
     "status": "completed"
    },
    "tags": []
   },
   "outputs": [
    {
     "data": {
      "text/plain": [
       "(array([46.96598162]), array([76.13928154]))"
      ]
     },
     "execution_count": 46,
     "metadata": {},
     "output_type": "execute_result"
    }
   ],
   "source": [
    "confidence_interval = st.norm.interval(alpha=0.95,\n",
    "                 loc=np.mean(champions_after_open_beta['lauch_time_from_previous']),\n",
    "                 scale=st.sem(beta_predict))\n",
    "confidence_interval"
   ]
  },
  {
   "cell_type": "code",
   "execution_count": 47,
   "id": "df9c3e88",
   "metadata": {
    "execution": {
     "iopub.execute_input": "2022-07-07T21:34:07.182292Z",
     "iopub.status.busy": "2022-07-07T21:34:07.182001Z",
     "iopub.status.idle": "2022-07-07T21:34:07.399345Z",
     "shell.execute_reply": "2022-07-07T21:34:07.398660Z"
    },
    "papermill": {
     "duration": 0.253688,
     "end_time": "2022-07-07T21:34:07.401675",
     "exception": false,
     "start_time": "2022-07-07T21:34:07.147987",
     "status": "completed"
    },
    "tags": []
   },
   "outputs": [
    {
     "data": {
      "image/png": "[encoded data removed]",
      "text/plain": [
       "<Figure size 576x288 with 1 Axes>"
      ]
     },
     "metadata": {},
     "output_type": "display_data"
    }
   ],
   "source": [
    "plot_regression_data('Lauch Time Between Legends: Logarithmic Curve - Since Beta', 'Legend', 'Days to launch', champions_after_open_beta, 'lauch_time_from_previous', beta_log_fit[0], beta_log_fit[1], beta_log_indexes, predicted_launch_times, \"log\", confidence_interval)"
   ]
  },
  {
   "cell_type": "markdown",
   "id": "508f5132",
   "metadata": {
    "papermill": {
     "duration": 0.033644,
     "end_time": "2022-07-07T21:34:07.469157",
     "exception": false,
     "start_time": "2022-07-07T21:34:07.435513",
     "status": "completed"
    },
    "tags": []
   },
   "source": [
    "### 4.4.3 - Including only since final launch date"
   ]
  },
  {
   "cell_type": "code",
   "execution_count": 48,
   "id": "04926e18",
   "metadata": {
    "execution": {
     "iopub.execute_input": "2022-07-07T21:34:07.537307Z",
     "iopub.status.busy": "2022-07-07T21:34:07.536674Z",
     "iopub.status.idle": "2022-07-07T21:34:07.543537Z",
     "shell.execute_reply": "2022-07-07T21:34:07.542687Z"
    },
    "papermill": {
     "duration": 0.042931,
     "end_time": "2022-07-07T21:34:07.545528",
     "exception": false,
     "start_time": "2022-07-07T21:34:07.502597",
     "status": "completed"
    },
    "tags": []
   },
   "outputs": [
    {
     "data": {
      "text/plain": [
       "array([[27.80388959],\n",
       "       [15.74148297]])"
      ]
     },
     "execution_count": 48,
     "metadata": {},
     "output_type": "execute_result"
    }
   ],
   "source": [
    "launch_log_array, launch_log_indexes, launch_log_fit = get_log_array_indexes_and_fit(launch_predict)\n",
    "launch_log_fit"
   ]
  },
  {
   "cell_type": "code",
   "execution_count": 49,
   "id": "09728b9d",
   "metadata": {
    "execution": {
     "iopub.execute_input": "2022-07-07T21:34:07.614688Z",
     "iopub.status.busy": "2022-07-07T21:34:07.614428Z",
     "iopub.status.idle": "2022-07-07T21:34:07.620172Z",
     "shell.execute_reply": "2022-07-07T21:34:07.619332Z"
    },
    "papermill": {
     "duration": 0.042589,
     "end_time": "2022-07-07T21:34:07.622081",
     "exception": false,
     "start_time": "2022-07-07T21:34:07.579492",
     "status": "completed"
    },
    "tags": []
   },
   "outputs": [
    {
     "data": {
      "text/plain": [
       "array([3.13549422, 3.17805383, 3.21887582])"
      ]
     },
     "execution_count": 49,
     "metadata": {},
     "output_type": "execute_result"
    }
   ],
   "source": [
    "to_predict_launch_dates_index_final = get_prediction_indexes_list(launch_predict, 3) # [champions.shape[0]+1, champions.shape[0]+2, champions.shape[0]+3]\n",
    "to_predict_launch_dates_index_final = np.log(to_predict_launch_dates_index_final)\n",
    "to_predict_launch_dates_index_final"
   ]
  },
  {
   "cell_type": "code",
   "execution_count": 50,
   "id": "cc76bd5c",
   "metadata": {
    "execution": {
     "iopub.execute_input": "2022-07-07T21:34:07.690892Z",
     "iopub.status.busy": "2022-07-07T21:34:07.690634Z",
     "iopub.status.idle": "2022-07-07T21:34:07.695742Z",
     "shell.execute_reply": "2022-07-07T21:34:07.695245Z"
    },
    "papermill": {
     "duration": 0.041419,
     "end_time": "2022-07-07T21:34:07.697485",
     "exception": false,
     "start_time": "2022-07-07T21:34:07.656066",
     "status": "completed"
    },
    "tags": []
   },
   "outputs": [
    {
     "data": {
      "text/plain": [
       "array([102.92041796, 104.10374078, 105.23875101])"
      ]
     },
     "execution_count": 50,
     "metadata": {},
     "output_type": "execute_result"
    }
   ],
   "source": [
    "predicted_launch_times = launch_log_fit[1] + launch_log_fit[0] * to_predict_launch_dates_index_final\n",
    "predicted_launch_times"
   ]
  },
  {
   "cell_type": "code",
   "execution_count": 51,
   "id": "09c7602f",
   "metadata": {
    "execution": {
     "iopub.execute_input": "2022-07-07T21:34:07.769620Z",
     "iopub.status.busy": "2022-07-07T21:34:07.768835Z",
     "iopub.status.idle": "2022-07-07T21:34:07.776226Z",
     "shell.execute_reply": "2022-07-07T21:34:07.775369Z"
    },
    "papermill": {
     "duration": 0.046804,
     "end_time": "2022-07-07T21:34:07.778278",
     "exception": false,
     "start_time": "2022-07-07T21:34:07.731474",
     "status": "completed"
    },
    "tags": []
   },
   "outputs": [
    {
     "data": {
      "text/plain": [
       "(array([53.70255431]), array([100.29744569]))"
      ]
     },
     "execution_count": 51,
     "metadata": {},
     "output_type": "execute_result"
    }
   ],
   "source": [
    "confidence_interval_launch = st.t.interval(alpha=0.95, df=len(champions_after_launch['lauch_time_from_previous'])-1,\n",
    "              loc=np.mean(champions_after_launch['lauch_time_from_previous']),\n",
    "              scale=st.sem(launch_predict))\n",
    "confidence_interval_launch"
   ]
  },
  {
   "cell_type": "code",
   "execution_count": 52,
   "id": "d22caa8d",
   "metadata": {
    "execution": {
     "iopub.execute_input": "2022-07-07T21:34:07.850182Z",
     "iopub.status.busy": "2022-07-07T21:34:07.849876Z",
     "iopub.status.idle": "2022-07-07T21:34:08.108483Z",
     "shell.execute_reply": "2022-07-07T21:34:08.107498Z"
    },
    "papermill": {
     "duration": 0.296942,
     "end_time": "2022-07-07T21:34:08.110584",
     "exception": false,
     "start_time": "2022-07-07T21:34:07.813642",
     "status": "completed"
    },
    "tags": []
   },
   "outputs": [
    {
     "data": {
      "image/png": "[encoded data removed]",
      "text/plain": [
       "<Figure size 576x288 with 1 Axes>"
      ]
     },
     "metadata": {},
     "output_type": "display_data"
    }
   ],
   "source": [
    "plot_regression_data('Lauch Time Between Legends: Logarithmic Curve - Since Launch', 'Legend', 'Days to launch', champions_after_launch, 'lauch_time_from_previous', launch_log_fit[0], launch_log_fit[1], launch_log_indexes, predicted_launch_times, \"log\", confidence_interval_launch)"
   ]
  },
  {
   "cell_type": "markdown",
   "id": "dfafe908",
   "metadata": {
    "papermill": {
     "duration": 0.034409,
     "end_time": "2022-07-07T21:34:08.179759",
     "exception": false,
     "start_time": "2022-07-07T21:34:08.145350",
     "status": "completed"
    },
    "tags": []
   },
   "source": [
    "## 5 - Correlation Matrix"
   ]
  },
  {
   "cell_type": "code",
   "execution_count": 53,
   "id": "9adbffd3",
   "metadata": {
    "execution": {
     "iopub.execute_input": "2022-07-07T21:34:08.249920Z",
     "iopub.status.busy": "2022-07-07T21:34:08.249626Z",
     "iopub.status.idle": "2022-07-07T21:34:08.793322Z",
     "shell.execute_reply": "2022-07-07T21:34:08.792252Z"
    },
    "papermill": {
     "duration": 0.582253,
     "end_time": "2022-07-07T21:34:08.796221",
     "exception": false,
     "start_time": "2022-07-07T21:34:08.213968",
     "status": "completed"
    },
    "tags": []
   },
   "outputs": [
    {
     "name": "stderr",
     "output_type": "stream",
     "text": [
      "/opt/conda/lib/python3.7/site-packages/ipykernel_launcher.py:8: FutureWarning: this method is deprecated in favour of `Styler.format(precision=..)`\n",
      "  \n"
     ]
    },
    {
     "data": {
      "text/html": [
       "<style type=\"text/css\">\n",
       "#T_25016_row0_col0, #T_25016_row1_col1, #T_25016_row2_col2, #T_25016_row3_col3, #T_25016_row4_col4, #T_25016_row5_col5, #T_25016_row6_col6 {\n",
       "  background-color: #b40426;\n",
       "  color: #f1f1f1;\n",
       "}\n",
       "#T_25016_row0_col1 {\n",
       "  background-color: #4a63d3;\n",
       "  color: #f1f1f1;\n",
       "}\n",
       "#T_25016_row0_col2 {\n",
       "  background-color: #8badfd;\n",
       "  color: #000000;\n",
       "}\n",
       "#T_25016_row0_col3 {\n",
       "  background-color: #485fd1;\n",
       "  color: #f1f1f1;\n",
       "}\n",
       "#T_25016_row0_col4 {\n",
       "  background-color: #84a7fc;\n",
       "  color: #f1f1f1;\n",
       "}\n",
       "#T_25016_row0_col5 {\n",
       "  background-color: #5a78e4;\n",
       "  color: #f1f1f1;\n",
       "}\n",
       "#T_25016_row0_col6 {\n",
       "  background-color: #3c4ec2;\n",
       "  color: #f1f1f1;\n",
       "}\n",
       "#T_25016_row1_col0, #T_25016_row1_col2, #T_25016_row2_col1, #T_25016_row2_col3, #T_25016_row3_col4, #T_25016_row3_col5, #T_25016_row4_col6 {\n",
       "  background-color: #3b4cc0;\n",
       "  color: #f1f1f1;\n",
       "}\n",
       "#T_25016_row1_col3, #T_25016_row6_col5 {\n",
       "  background-color: #93b5fe;\n",
       "  color: #000000;\n",
       "}\n",
       "#T_25016_row1_col4 {\n",
       "  background-color: #5b7ae5;\n",
       "  color: #f1f1f1;\n",
       "}\n",
       "#T_25016_row1_col5 {\n",
       "  background-color: #4358cb;\n",
       "  color: #f1f1f1;\n",
       "}\n",
       "#T_25016_row1_col6 {\n",
       "  background-color: #4c66d6;\n",
       "  color: #f1f1f1;\n",
       "}\n",
       "#T_25016_row2_col0 {\n",
       "  background-color: #7b9ff9;\n",
       "  color: #f1f1f1;\n",
       "}\n",
       "#T_25016_row2_col4 {\n",
       "  background-color: #c1d4f4;\n",
       "  color: #000000;\n",
       "}\n",
       "#T_25016_row2_col5 {\n",
       "  background-color: #536edd;\n",
       "  color: #f1f1f1;\n",
       "}\n",
       "#T_25016_row2_col6 {\n",
       "  background-color: #6485ec;\n",
       "  color: #f1f1f1;\n",
       "}\n",
       "#T_25016_row3_col0 {\n",
       "  background-color: #4257c9;\n",
       "  color: #f1f1f1;\n",
       "}\n",
       "#T_25016_row3_col1 {\n",
       "  background-color: #9dbdff;\n",
       "  color: #000000;\n",
       "}\n",
       "#T_25016_row3_col2 {\n",
       "  background-color: #455cce;\n",
       "  color: #f1f1f1;\n",
       "}\n",
       "#T_25016_row3_col6 {\n",
       "  background-color: #89acfd;\n",
       "  color: #000000;\n",
       "}\n",
       "#T_25016_row4_col0 {\n",
       "  background-color: #a9c6fd;\n",
       "  color: #000000;\n",
       "}\n",
       "#T_25016_row4_col1 {\n",
       "  background-color: #94b6ff;\n",
       "  color: #000000;\n",
       "}\n",
       "#T_25016_row4_col2 {\n",
       "  background-color: #e0dbd8;\n",
       "  color: #000000;\n",
       "}\n",
       "#T_25016_row4_col3 {\n",
       "  background-color: #6a8bef;\n",
       "  color: #f1f1f1;\n",
       "}\n",
       "#T_25016_row4_col5 {\n",
       "  background-color: #516ddb;\n",
       "  color: #f1f1f1;\n",
       "}\n",
       "#T_25016_row5_col0 {\n",
       "  background-color: #abc8fd;\n",
       "  color: #000000;\n",
       "}\n",
       "#T_25016_row5_col1 {\n",
       "  background-color: #a6c4fe;\n",
       "  color: #000000;\n",
       "}\n",
       "#T_25016_row5_col2, #T_25016_row6_col2 {\n",
       "  background-color: #b2ccfb;\n",
       "  color: #000000;\n",
       "}\n",
       "#T_25016_row5_col3 {\n",
       "  background-color: #96b7ff;\n",
       "  color: #000000;\n",
       "}\n",
       "#T_25016_row5_col4 {\n",
       "  background-color: #7ea1fa;\n",
       "  color: #f1f1f1;\n",
       "}\n",
       "#T_25016_row5_col6 {\n",
       "  background-color: #a2c1ff;\n",
       "  color: #000000;\n",
       "}\n",
       "#T_25016_row6_col0 {\n",
       "  background-color: #82a6fb;\n",
       "  color: #f1f1f1;\n",
       "}\n",
       "#T_25016_row6_col1 {\n",
       "  background-color: #9fbfff;\n",
       "  color: #000000;\n",
       "}\n",
       "#T_25016_row6_col3 {\n",
       "  background-color: #c4d5f3;\n",
       "  color: #000000;\n",
       "}\n",
       "#T_25016_row6_col4 {\n",
       "  background-color: #5673e0;\n",
       "  color: #f1f1f1;\n",
       "}\n",
       "</style>\n",
       "<table id=\"T_25016_\">\n",
       "  <thead>\n",
       "    <tr>\n",
       "      <th class=\"blank level0\" >&nbsp;</th>\n",
       "      <th class=\"col_heading level0 col0\" >strength</th>\n",
       "      <th class=\"col_heading level0 col1\" >dexterity</th>\n",
       "      <th class=\"col_heading level0 col2\" >defence</th>\n",
       "      <th class=\"col_heading level0 col3\" >speed</th>\n",
       "      <th class=\"col_heading level0 col4\" >gender</th>\n",
       "      <th class=\"col_heading level0 col5\" >price</th>\n",
       "      <th class=\"col_heading level0 col6\" >lauch_time_from_previous</th>\n",
       "    </tr>\n",
       "  </thead>\n",
       "  <tbody>\n",
       "    <tr>\n",
       "      <th id=\"T_25016_level0_row0\" class=\"row_heading level0 row0\" >strength</th>\n",
       "      <td id=\"T_25016_row0_col0\" class=\"data row0 col0\" >1.00</td>\n",
       "      <td id=\"T_25016_row0_col1\" class=\"data row0 col1\" >-0.43</td>\n",
       "      <td id=\"T_25016_row0_col2\" class=\"data row0 col2\" >-0.14</td>\n",
       "      <td id=\"T_25016_row0_col3\" class=\"data row0 col3\" >-0.39</td>\n",
       "      <td id=\"T_25016_row0_col4\" class=\"data row0 col4\" >0.04</td>\n",
       "      <td id=\"T_25016_row0_col5\" class=\"data row0 col5\" >0.05</td>\n",
       "      <td id=\"T_25016_row0_col6\" class=\"data row0 col6\" >-0.12</td>\n",
       "    </tr>\n",
       "    <tr>\n",
       "      <th id=\"T_25016_level0_row1\" class=\"row_heading level0 row1\" >dexterity</th>\n",
       "      <td id=\"T_25016_row1_col0\" class=\"data row1 col0\" >-0.43</td>\n",
       "      <td id=\"T_25016_row1_col1\" class=\"data row1 col1\" >1.00</td>\n",
       "      <td id=\"T_25016_row1_col2\" class=\"data row1 col2\" >-0.51</td>\n",
       "      <td id=\"T_25016_row1_col3\" class=\"data row1 col3\" >-0.06</td>\n",
       "      <td id=\"T_25016_row1_col4\" class=\"data row1 col4\" >-0.10</td>\n",
       "      <td id=\"T_25016_row1_col5\" class=\"data row1 col5\" >-0.03</td>\n",
       "      <td id=\"T_25016_row1_col6\" class=\"data row1 col6\" >-0.06</td>\n",
       "    </tr>\n",
       "    <tr>\n",
       "      <th id=\"T_25016_level0_row2\" class=\"row_heading level0 row2\" >defence</th>\n",
       "      <td id=\"T_25016_row2_col0\" class=\"data row2 col0\" >-0.14</td>\n",
       "      <td id=\"T_25016_row2_col1\" class=\"data row2 col1\" >-0.51</td>\n",
       "      <td id=\"T_25016_row2_col2\" class=\"data row2 col2\" >1.00</td>\n",
       "      <td id=\"T_25016_row2_col3\" class=\"data row2 col3\" >-0.46</td>\n",
       "      <td id=\"T_25016_row2_col4\" class=\"data row2 col4\" >0.26</td>\n",
       "      <td id=\"T_25016_row2_col5\" class=\"data row2 col5\" >0.03</td>\n",
       "      <td id=\"T_25016_row2_col6\" class=\"data row2 col6\" >0.03</td>\n",
       "    </tr>\n",
       "    <tr>\n",
       "      <th id=\"T_25016_level0_row3\" class=\"row_heading level0 row3\" >speed</th>\n",
       "      <td id=\"T_25016_row3_col0\" class=\"data row3 col0\" >-0.39</td>\n",
       "      <td id=\"T_25016_row3_col1\" class=\"data row3 col1\" >-0.06</td>\n",
       "      <td id=\"T_25016_row3_col2\" class=\"data row3 col2\" >-0.46</td>\n",
       "      <td id=\"T_25016_row3_col3\" class=\"data row3 col3\" >1.00</td>\n",
       "      <td id=\"T_25016_row3_col4\" class=\"data row3 col4\" >-0.24</td>\n",
       "      <td id=\"T_25016_row3_col5\" class=\"data row3 col5\" >-0.06</td>\n",
       "      <td id=\"T_25016_row3_col6\" class=\"data row3 col6\" >0.15</td>\n",
       "    </tr>\n",
       "    <tr>\n",
       "      <th id=\"T_25016_level0_row4\" class=\"row_heading level0 row4\" >gender</th>\n",
       "      <td id=\"T_25016_row4_col0\" class=\"data row4 col0\" >0.04</td>\n",
       "      <td id=\"T_25016_row4_col1\" class=\"data row4 col1\" >-0.10</td>\n",
       "      <td id=\"T_25016_row4_col2\" class=\"data row4 col2\" >0.26</td>\n",
       "      <td id=\"T_25016_row4_col3\" class=\"data row4 col3\" >-0.24</td>\n",
       "      <td id=\"T_25016_row4_col4\" class=\"data row4 col4\" >1.00</td>\n",
       "      <td id=\"T_25016_row4_col5\" class=\"data row4 col5\" >0.02</td>\n",
       "      <td id=\"T_25016_row4_col6\" class=\"data row4 col6\" >-0.12</td>\n",
       "    </tr>\n",
       "    <tr>\n",
       "      <th id=\"T_25016_level0_row5\" class=\"row_heading level0 row5\" >price</th>\n",
       "      <td id=\"T_25016_row5_col0\" class=\"data row5 col0\" >0.05</td>\n",
       "      <td id=\"T_25016_row5_col1\" class=\"data row5 col1\" >-0.03</td>\n",
       "      <td id=\"T_25016_row5_col2\" class=\"data row5 col2\" >0.03</td>\n",
       "      <td id=\"T_25016_row5_col3\" class=\"data row5 col3\" >-0.06</td>\n",
       "      <td id=\"T_25016_row5_col4\" class=\"data row5 col4\" >0.02</td>\n",
       "      <td id=\"T_25016_row5_col5\" class=\"data row5 col5\" >1.00</td>\n",
       "      <td id=\"T_25016_row5_col6\" class=\"data row5 col6\" >0.23</td>\n",
       "    </tr>\n",
       "    <tr>\n",
       "      <th id=\"T_25016_level0_row6\" class=\"row_heading level0 row6\" >lauch_time_from_previous</th>\n",
       "      <td id=\"T_25016_row6_col0\" class=\"data row6 col0\" >-0.12</td>\n",
       "      <td id=\"T_25016_row6_col1\" class=\"data row6 col1\" >-0.06</td>\n",
       "      <td id=\"T_25016_row6_col2\" class=\"data row6 col2\" >0.03</td>\n",
       "      <td id=\"T_25016_row6_col3\" class=\"data row6 col3\" >0.15</td>\n",
       "      <td id=\"T_25016_row6_col4\" class=\"data row6 col4\" >-0.12</td>\n",
       "      <td id=\"T_25016_row6_col5\" class=\"data row6 col5\" >0.23</td>\n",
       "      <td id=\"T_25016_row6_col6\" class=\"data row6 col6\" >1.00</td>\n",
       "    </tr>\n",
       "  </tbody>\n",
       "</table>\n"
      ],
      "text/plain": [
       "<pandas.io.formats.style.Styler at 0x7fcc145dc450>"
      ]
     },
     "execution_count": 53,
     "metadata": {},
     "output_type": "execute_result"
    },
    {
     "data": {
      "image/png": "[encoded data removed]",
      "text/plain": [
       "<Figure size 1368x1080 with 2 Axes>"
      ]
     },
     "metadata": {
      "needs_background": "light"
     },
     "output_type": "display_data"
    }
   ],
   "source": [
    "f = plt.figure(figsize=(19, 15))\n",
    "plt.matshow(champions.corr(), fignum=f.number)\n",
    "plt.xticks(range(champions.select_dtypes(['number']).shape[1]), champions.select_dtypes(['number']).columns, fontsize=14, rotation=45)\n",
    "plt.yticks(range(champions.select_dtypes(['number']).shape[1]), champions.select_dtypes(['number']).columns, fontsize=14)\n",
    "cb = plt.colorbar()\n",
    "cb.ax.tick_params(labelsize=14)\n",
    "plt.title('Correlation Matrix', fontsize=16);\n",
    "champions.corr().style.background_gradient(cmap='coolwarm').set_precision(2)"
   ]
  },
  {
   "cell_type": "markdown",
   "id": "32d823f0",
   "metadata": {
    "papermill": {
     "duration": 0.036909,
     "end_time": "2022-07-07T21:34:08.870905",
     "exception": false,
     "start_time": "2022-07-07T21:34:08.833996",
     "status": "completed"
    },
    "tags": []
   },
   "source": [
    "## 6 - Male and Female probabilities"
   ]
  },
  {
   "cell_type": "code",
   "execution_count": 54,
   "id": "b75cf21a",
   "metadata": {
    "execution": {
     "iopub.execute_input": "2022-07-07T21:34:08.947865Z",
     "iopub.status.busy": "2022-07-07T21:34:08.947037Z",
     "iopub.status.idle": "2022-07-07T21:34:08.955513Z",
     "shell.execute_reply": "2022-07-07T21:34:08.954634Z"
    },
    "papermill": {
     "duration": 0.049231,
     "end_time": "2022-07-07T21:34:08.957576",
     "exception": false,
     "start_time": "2022-07-07T21:34:08.908345",
     "status": "completed"
    },
    "tags": []
   },
   "outputs": [
    {
     "data": {
      "text/plain": [
       "0.5471698113207547"
      ]
     },
     "execution_count": 54,
     "metadata": {},
     "output_type": "execute_result"
    }
   ],
   "source": [
    "male_champions = len(champions[champions.gender == 1.0])\n",
    "total_champions = len(champions)\n",
    "male_probability = male_champions / (total_champions - 2)\n",
    "male_probability"
   ]
  },
  {
   "cell_type": "code",
   "execution_count": 55,
   "id": "a4d7dbaf",
   "metadata": {
    "execution": {
     "iopub.execute_input": "2022-07-07T21:34:09.033450Z",
     "iopub.status.busy": "2022-07-07T21:34:09.033089Z",
     "iopub.status.idle": "2022-07-07T21:34:09.040713Z",
     "shell.execute_reply": "2022-07-07T21:34:09.039856Z"
    },
    "papermill": {
     "duration": 0.048227,
     "end_time": "2022-07-07T21:34:09.042848",
     "exception": false,
     "start_time": "2022-07-07T21:34:08.994621",
     "status": "completed"
    },
    "tags": []
   },
   "outputs": [
    {
     "data": {
      "text/plain": [
       "0.4528301886792453"
      ]
     },
     "execution_count": 55,
     "metadata": {},
     "output_type": "execute_result"
    }
   ],
   "source": [
    "female_champions = len(champions[champions.gender == 0.0])\n",
    "female_probability = female_champions / (total_champions - 2)\n",
    "female_probability"
   ]
  },
  {
   "cell_type": "markdown",
   "id": "64705ae8",
   "metadata": {
    "papermill": {
     "duration": 0.024264,
     "end_time": "2022-07-07T21:34:09.091884",
     "exception": false,
     "start_time": "2022-07-07T21:34:09.067620",
     "status": "completed"
    },
    "tags": []
   },
   "source": [
    "## 7 - Conclusion"
   ]
  },
  {
   "cell_type": "markdown",
   "id": "a4fd7db2",
   "metadata": {
    "papermill": {
     "duration": 0.025571,
     "end_time": "2022-07-07T21:34:09.142906",
     "exception": false,
     "start_time": "2022-07-07T21:34:09.117335",
     "status": "completed"
    },
    "tags": []
   },
   "source": [
    "1 - Legends with the most speed, defence and dexterity usually are considered the best by the community;"
   ]
  },
  {
   "cell_type": "markdown",
   "id": "c0475077",
   "metadata": {
    "papermill": {
     "duration": 0.024482,
     "end_time": "2022-07-07T21:34:09.192835",
     "exception": false,
     "start_time": "2022-07-07T21:34:09.168353",
     "status": "completed"
    },
    "tags": []
   },
   "source": [
    "2 - Male legends usually have higher defence and lower speed;"
   ]
  },
  {
   "cell_type": "markdown",
   "id": "8ed3f1c6",
   "metadata": {
    "papermill": {
     "duration": 0.029981,
     "end_time": "2022-07-07T21:34:09.247461",
     "exception": false,
     "start_time": "2022-07-07T21:34:09.217480",
     "status": "completed"
    },
    "tags": []
   },
   "source": [
    "3 - It's most likely to a legend with '???' gender be male;"
   ]
  },
  {
   "cell_type": "markdown",
   "id": "7ec050a8",
   "metadata": {
    "papermill": {
     "duration": 0.036814,
     "end_time": "2022-07-07T21:34:09.321529",
     "exception": false,
     "start_time": "2022-07-07T21:34:09.284715",
     "status": "completed"
    },
    "tags": []
   },
   "source": [
    "4 - The way which launch time of future legends are described varies with the period of the game (alpha, beta and final launches);"
   ]
  },
  {
   "cell_type": "markdown",
   "id": "8f0959f8",
   "metadata": {
    "papermill": {
     "duration": 0.037023,
     "end_time": "2022-07-07T21:34:09.395608",
     "exception": false,
     "start_time": "2022-07-07T21:34:09.358585",
     "status": "completed"
    },
    "tags": []
   },
   "source": [
    "5 - The way that the launch time of legends varies (for now) is, most likely, linearly;"
   ]
  },
  {
   "cell_type": "markdown",
   "id": "3e7b5254",
   "metadata": {
    "papermill": {
     "duration": 0.035232,
     "end_time": "2022-07-07T21:34:09.467328",
     "exception": false,
     "start_time": "2022-07-07T21:34:09.432096",
     "status": "completed"
    },
    "tags": []
   },
   "source": [
    "6 - The next champion should launch around 133 days, but it could vary, since the launch dates doesn't follow a definitive pattern;"
   ]
  },
  {
   "cell_type": "markdown",
   "id": "056237de",
   "metadata": {
    "papermill": {
     "duration": 0.035483,
     "end_time": "2022-07-07T21:34:09.539001",
     "exception": false,
     "start_time": "2022-07-07T21:34:09.503518",
     "status": "completed"
    },
    "tags": []
   },
   "source": [
    "7 - High speed and dexterity usually means low defence and strength;"
   ]
  },
  {
   "cell_type": "markdown",
   "id": "f5a97371",
   "metadata": {
    "papermill": {
     "duration": 0.035517,
     "end_time": "2022-07-07T21:34:09.609931",
     "exception": false,
     "start_time": "2022-07-07T21:34:09.574414",
     "status": "completed"
    },
    "tags": []
   },
   "source": [
    "8 - High speed usually means low defence and strength;"
   ]
  },
  {
   "cell_type": "markdown",
   "id": "6f11e648",
   "metadata": {
    "papermill": {
     "duration": 0.035586,
     "end_time": "2022-07-07T21:34:09.681287",
     "exception": false,
     "start_time": "2022-07-07T21:34:09.645701",
     "status": "completed"
    },
    "tags": []
   },
   "source": [
    "9 - Legend's prices had grown over time."
   ]
  }
 ],
 "metadata": {
  "kernelspec": {
   "display_name": "Python 3",
   "language": "python",
   "name": "python3"
  },
  "language_info": {
   "codemirror_mode": {
    "name": "ipython",
    "version": 3
   },
   "file_extension": ".py",
   "mimetype": "text/x-python",
   "name": "python",
   "nbconvert_exporter": "python",
   "pygments_lexer": "ipython3",
   "version": "3.7.12"
  },
  "papermill": {
   "default_parameters": {},
   "duration": 19.519468,
   "end_time": "2022-07-07T21:34:10.437701",
   "environment_variables": {},
   "exception": null,
   "input_path": "__notebook__.ipynb",
   "output_path": "__notebook__.ipynb",
   "parameters": {},
   "start_time": "2022-07-07T21:33:50.918233",
   "version": "2.3.4"
  }
 },
 "nbformat": 4,
 "nbformat_minor": 5
}
